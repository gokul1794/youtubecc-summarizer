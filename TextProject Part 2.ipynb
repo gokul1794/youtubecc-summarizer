{
 "cells": [
  {
   "cell_type": "code",
   "execution_count": 409,
   "metadata": {},
   "outputs": [],
   "source": [
    "import pandas as pd\n",
    "import json\n",
    "from textblob import TextBlob\n",
    "import seaborn as sns\n",
    "import matplotlib.pyplot as plt\n",
    "\n",
    "import seaborn as sns\n",
    "sns.set(style='darkgrid', color_codes=True)\n",
    "import warnings\n",
    "warnings.filterwarnings(\"ignore\")\n",
    "from pylab import rcParams\n",
    "rcParams['figure.figsize']= 18,11"
   ]
  },
  {
   "cell_type": "code",
   "execution_count": 2,
   "metadata": {},
   "outputs": [],
   "source": [
    "#iPhone 12 review\n",
    "from youtube_transcript_api import YouTubeTranscriptApi\n",
    "mkbhdTranscript = YouTubeTranscriptApi.get_transcript('X1b3C2081-Q')\n",
    "daveleeTranscript = YouTubeTranscriptApi.get_transcript('ybt03airuTk')"
   ]
  },
  {
   "cell_type": "code",
   "execution_count": 5,
   "metadata": {},
   "outputs": [],
   "source": [
    "newtranscript_list = [i['text'] for i in mkbhdTranscript]\n",
    "mkbhdTranscript = ' '.join(newtranscript_list)"
   ]
  },
  {
   "cell_type": "code",
   "execution_count": 7,
   "metadata": {},
   "outputs": [],
   "source": [
    "newtranscript_list = [i['text'] for i in daveleeTranscript]\n",
    "daveleeTranscript = ' '.join(newtranscript_list)"
   ]
  },
  {
   "cell_type": "code",
   "execution_count": 11,
   "metadata": {},
   "outputs": [],
   "source": [
    "mkbhdTranscript = mkbhdTranscript.replace('[Music]','')\n",
    "daveleeTranscript =  daveleeTranscript.replace('[Music]','')"
   ]
  },
  {
   "cell_type": "code",
   "execution_count": 13,
   "metadata": {},
   "outputs": [],
   "source": [
    "import requests\n",
    "\n",
    "url = \"http://bark.phon.ioc.ee/punctuator\"\n",
    "headers = {\n",
    "  'Content-Type': 'application/x-www-form-urlencoded'\n",
    "}\n",
    "\n",
    "payload = 'text='+mkbhdTranscript\n",
    "response = requests.request(\"POST\", url, headers=headers, data = payload)\n",
    "mkbhdTranscript = response.text.encode('utf8')"
   ]
  },
  {
   "cell_type": "code",
   "execution_count": 14,
   "metadata": {},
   "outputs": [],
   "source": [
    "payload = 'text='+daveleeTranscript\n",
    "response = requests.request(\"POST\", url, headers=headers, data = payload)\n",
    "daveleeTranscript = response.text.encode('utf8')"
   ]
  },
  {
   "cell_type": "code",
   "execution_count": 111,
   "metadata": {},
   "outputs": [
    {
     "name": "stdout",
     "output_type": "stream",
     "text": [
      "b\"Hey what's up mkbhd here, and this is the iphone 12.. I feel, like we've all seen an iphone before at this point. This is a pretty familiar iphone. We'Ve seen the rounded corners and the notch and the lightning port, but there are a couple key changes this year that are a first in the iphone, so i've been using this iphone 12 for a bit since my impressions, video and it's my favorite iphone ever mostly Because of this design, but if you're considering getting one there's some stuff, you should know now i'm going to do a separate video on the pro in this sweet blue color. I think it's the best color, but these two phones are very similar same exact size. Like a case that works for one works for the other same main cameras, almost the same screen same battery same charging, but there's a couple things that only apply to the pro and i'll go over those in that video. But let's just start with the 12. With this new design, shall we i love this super flat design. It is so flat, it's not the typical, almost flat where the screen is flat right up to the edges, and then it curves over the very edge and they call it like 2.5 d. No, this is flat flat, like the phone happens, to be a little bit thinner and a little bit lighter than last year, but i'm not as concerned with that, but the square sides are actually the most efficient way to pack in those internals into the phone as Efficiently as possible - and i happen to think it looks and feels super premium and modern on top of all that now this kind of red, but also kind of salmon, sometimes product red version after seeing it in person, i'd probably not go for this i'd go for Either the blue or the black but yeah those aluminum rails are everything they're more grippable, maybe a little less comfortable at first, but hey the buttons are clicky. The power button is a little bit bigger. It'S still ip68 water resistant you've got your 5g antenna cut out on the right hand, side in some regions, which trust me i'll get way into that in a second and yeah. I just like holding this phone now, if you put a case on it, i guess a lot of that doesn't matter as much you'll notice it less obviously, but still even some cases are flattening out their dimensions for the iphone 12, so that again, will make it Easier to grip, harder to drop and speaking of dropping all these new iphones come with on the front something new called ceramic shield, and this is basically this specialty hardened kind of glass with crystal structure inside it, and it's on the front of these phones over the Screen and it's supposed to offer four times better drop protection so shatter protection, basically, which is great, but i typically care just as much, if not more about scratch. Resistance. All the little micro scratches that your phone gathers over time and the thing about scratch resistance is it's typically inversely proportional to shatter resistance. So if you think about it, the softer something is the less likely it is to shatter, but then the easier it is to scratch it and vice versa, the harder something is the less likely you are to scratch it, but the more brittle it is and the More shatterable it becomes so i see the headline of better drop protection and that's great, but i'm not about to drop my phone to find out if it works. I'M sure people are already on that. I have no idea how they'll land on that 4x number, but all right, all i know, is - i already have a little gash in my screen on the left hand side here, which is so sad, but that's probably out of level six, no idea how that happened, But i'm feeling like the iphone, is not significantly more scratch resistant than before. Of course, zach will probably tell us the truth there, so if it shatters a lot less when dropped, we'll see, that would be nice, but i feel like a lot of the drop stuff. Is happenstance like if i happen to drop my phone a certain way? It'S definitely gon na crack right and if i happen to drop my phone another way, it's probably not going to so i don't know. I don't want to worry about too much use the case. If you want to use a screen protector, if you really want to i'm just going to i'm just going to live my life, so possibly the biggest external hardware feature of the new iphones is magsafe, and i think it has bigger implications for the future of the Iphone but right now, magsafe is the optional new magnetic charging accessory standard on the back like right behind the apple logo. So the number one magsafe accessory that apple sells is the puck charger. It doesn't come with a brick by the way. So if you buy the charger 40 bucks make sure you have a usbc charging brick but uh yeah, just kind of slaps onto the back of the phone. You line it up with the magnets you kind of get used to where it places right over the apple logo and that's all good. This charges at 15 watts, while every other wireless charger on the iphone, still charges at seven and a half watts and a couple other faqs on this number one. Yes, it is still qi charging, so you can still charge the iphone 12 with other wireless chargers and you can charge other phones with the magsafe puck if you're into that number two, the durability concern with magsafe leaving marks on the iphone. I have noticed that on mine too, but i don't think it'll turn out to be a long-term problem. It just seems to wipe off every time like you might remember how the homepod was leaving these little white stained rings on certain wood tables, which is kind of understandable, because not every table is the same, but i feel like i guess i hope, apple's probably tested This, like a hundred thousand times and probably determined that it's not an issue about the way they made this so should be okay and then number three. I was getting a lot of questions about this. Yes, you can magsafe charge through most non-magsafe cases as long as they're thin enough and even that magnet will actually still work through some thin cases. So i didn't really have any non-magsafe cases here to test, but of course, channel sponsored dbrand sent over a grip case, and i can confirm it's thin enough to work just fine with a magsafe charger. Kinda, like it is a magsafe charger and, yes, all the other benefits of a case, grippiness protection, they all still apply. So since i know most people end up looking for a good one. I'Ll leave a link to this case below now. At the beginning of this magsafe bit, i said something i said it was optional, which it is for now, but i feel like we can. All sort of see where this is going, which is apple, is slowly moving towards eventually making a portless iphone, which i think that's a whole separate video's worth of rant. But bottom line is their solution to wirelessly. Conveniently charging a phone that doesn't have a port is going to be magsafe this thing right here, so it's not amazing, but i guess it's fine. The couple of accessories they've made for it so far, not bad there's a regular case, of course, that you can continue to stack things through there's a kind of weird looking clear version of the case for some reason: there's a wallet that i mentioned. That doesn't have very strong magnets, but if you think about it, it's not so peculiar that the one accessory they chose to make outside of a case is a wallet like. Let me know if there's any flaw in this, this series of logic right so apple, wants to get rid of the port on the iphone and go totally wireless charging for everything at a certain point, maybe next year, whatever right, so they already see ahead of time. This particular headline, which is people who use wallet cases, can't wireless charge their iphone, so they can't charge the iphone at all. So apple needs to invent a way for people who use wallet cases to continue to charge their phone, so they invent an accessory, which is a removable wallet bit. So you can charge the phone and when you don't need to charge it, you can put the wallet back on that seems to check out, like i said, it's a whole thing, but today, optional battery life on these phones has actually been pretty good, but not noticeably Better than last year, at all matter of fact, it's actually a slightly larger higher res display and actually a smaller physical battery. So it's pretty impressive that the phone still does. Okay, you can kill it in a day with six hours of screen on time or just a lot of heavy use, but this isn't new with this standard size iphone. If you want a real battery champ, you can go for the bigger phone. The actual best new piece of the iphone 12, though, is definitely the new display. It goes from being that 720p lcd with bigger bezels. That was really easy to make fun of to this. Much better and even slightly bigger, 6.1 inch, 1080p oled, it's like night and day, it's basically on par with the pro, which is actually pretty surprising to me, just a slightly lower peak brightness. Now it's 60 hertz again and while that's kind of a missing feature at this point on an 800 phone in 2020, i was actually kind of expecting that i was just thinking. The pros would get 120 hertz displays this year, but obviously none of them did, which is a bummer. But let's be honest, they probably saw that as a battery saving measure, since this phone did also just get 5g. So let's talk about 5g. I kind of love and hate 5g right now, so this slogan apple, and i guess the carriers 2 really keep pushing that 5g. Just got real 5g. Just got real, really just now. 5G. Just now got real. Last time i checked like this year. I reviewed like 30 phones with 5g, so clearly, 5g has already existed, but there's a reason, they're saying it this way. So, first of all, i did a video all about 5g, where i went to a 5g area testing it explaining it showing what's good about it and what its limitations are. I'M gon na leave it linked right below the like button. If you want to watch it catch up on that, but the bottom line is it's really promising, but it's still being built right now, but carriers - and i guess apple, really like the message that 5g just got real, because now that all of the new iphones have 5G built in there's about to be millions and millions and millions more people walking around with 5g capable phones in a few very short months, and when that happens, that tends to accelerate development. That sort of makes it real, which i get it, but also the carriers, would very very much like you to upgrade to their 5g plan please, but we got to remember 5g in 2020. Has its ups and its downs like this iphone 12. I'M using here has verizon 5g, which is surprisingly actually in my area. It'S not millimeter wave, it's not ultra wide band, but it can still give me roughly 20 faster download and upload speeds, but 5g radios are also pretty power hungry and the more time you spend on 5g, the more battery you bleed through now apple's thought a lot About this, of course, so their solution and you might have caught it on stage during the announcement - is called smart data mode and basically it tries to only use 5g when you actually need it to save battery. So when you're in a 4g area, you're on 4g speeds everything works with lte no problem. You'Re good it'll feel normal when you're in a 5g area and you're doing a lot of bandwidth, intensive stuff, you're downloading a bunch of videos and music you're face timing and crispy hd you're doing a lot of that high bandwidth stuff, that's going to use 5g and That'S going to improve that experience a lot, but if you are in a 5g area but not really doing anything that benefits from 5g, then your phone will actually switch off and stick with 4g and as the verge reported it'll actually still show you the 5g indicator. In the corner, but you'll get 4g speeds which we'll probably find, but that also explains this sort of weird speed test result. So look my take, is i get it? The best technologies are supposed to be invisible. Like you shouldn't, even notice, they work. You go to download something while walking around you're in a 5g area. Boom 5g turns on your downloads, go super quick and then it turns off to save battery kind of like promotion on the ipad pro. It goes up to 120 hertz when you're scrolling and playing games and actually using it, but when you're not you're just sitting on the home screen or watching a video, it will go down to 24 hertz to save battery. So it's sort of not there when you don't need it it's there when it helps you. It'S just weird that the whole messaging has been in your face: 5g. 5G. 5G. 5G. 5G. So yeah, i would say, don't buy this phone now because you want to get a 5g phone. But if you do get this phone now, then maybe it'll be a nice bonus if you're in a 5g area or in the future. When you end up in a 5g area, you'll be able to use that too cool all right. New iphone equals new best camera ever in an iphone right. Well sure, iphone 12's got a slightly updated dual camera system with a standard and an ultra wide. The standard has a slightly wider aperture at f 1.6 instead of f 1.8, and, to be honest, it's not really much of a difference in the camera like it's just not same as the pixel they're, not really doing anything too drastic. If it ain't broke, don't fix it really. The hardware improvements are almost impossible to notice in regular photos, but they will get you an improvement in like the edge cases. The most difficult photo and video taking scenarios so like handheld in low light, that'll be better night mode, will be better, auto focus on fast moving subjects. Super high dynamic range shots like shooting straight into the sun, thanks to smart, hdr3 stuff, like that other than that it still looks like iphone photos, which is to say some of the absolute best and most consistent crisp photos on any smartphone. So that's not a letdown but iphone video, though firmly in a league of its own. It firmly like every time i test a new iphone camera. It'S just the video camera is so much better and people care a lot about video. They take a lot of videos, so you'd want to know yeah the iphone takes great video and that's despite not shooting 8k, and not having a huge new sensor or anything crazy like that. It'S just so fine-tuned and so reliable. But i want to save my full analysis of that for the video about the pros, because i think pros care even more about video stuff and there's potentially well there's even new hardware of the sensors in the 12 pro max. So that could be interesting to see my one knock is. It does seem like there's more flaring in low light, video like just a ton of little orbs for every little point, light source, but it's still very usable, though now you might have heard about dolby vision. Hdr these new iphones are the first cameras, the only cameras in the world to shoot bit high, dynamic range, dolby, vision, 4k, video and that's awesome. Hdr video is awesome, higher brighter brights, deeper shadows, overall, better images even better perceived quality. I love hdr, but here's the thing: dolby vision is just one hdr standard or format by dolby, and there are other hdr standards that have been out. You might heard of. Hdr10 is one of them and that some other smartphones have actually started enabling you to shoot. You might have a smartphone in your pocket right now that is already capable of shooting hdr10 video, but the issue with new formats is always compatibility, so some tvs are hdr10 certified. Some aren't. Some displays are adobe vision. Certified some aren't, so you can look at the display. The video you take on the iphone and it's dolby vision certified and it looks amazing and if you send this video to another iphone 12 it'll. Look amazing on that iphone. But as soon as you upload it to twitter or instagram or tick, tock or kinda, anything at this point even youtube. It doesn't show up as that hdr on most people's screens. It'S back to sdr, but the big deal here again is kind of like 5g, because there's about to be so many iphone 12s in the world, there's about to be millions of new devices and new people out there shooting tons of hdr video and looking to share It and so now, there's more incentive for places and and apps like twitter and instagram and tick tock to support hdr. So maybe the tagline should have been hdr just got real anyway. The rest of the iphone is pretty familiar and that's a good thing for most people, ios 14 - we've all seen it by now. It'S familiar even though there's a couple bugs and apps that will probably get updated pretty soon face id. It'S completely unchanged. Even performance is familiar since there's nothing super new like high refresh rate. There is the new a14 bionic inside, which is one of the very first five nanometer chips in any device which is a more powerful, cpu and gpu and is paired with 4 gigs of ram and everything's great. But that's mainly for speed that you're going to notice. Later down the road when the phone is 2, 3, 4 years old and hopefully still feeling really fast, but fundamentally there isn't really that much of a difference in these iphones and the performance you get this year versus what last year didn't already do just a little Bit faster, but yeah, even at a somewhat premium 830 bucks. That'S the actual price. Apple'S website shows carrier pricing at first, so it's a little misleading, but even at that price yeah this phone with best in class cameras best in class performance. Much better screen is pretty damn good. It'S. This is the one to get for most people. Here'S a too long, didn't watch version for those of you lazy people that i know just went down to the chapters and skipped to this. It'S a great phone, the best new parts of it are definitely the display, which was a huge knock up from last year, knock up why'd. I say it like that. The display is better battery life's about the same cameras are a little bit better. Build quality and design are also an awesome improvement and magsafe it's optional for now, but might as well start getting used to it, and the worst part is. The price is a little higher because also 5g is built into the phone, even for people who are never going to use it. But that being said there, you have it great work, apple and definitely stay tuned for the review on the pro i want to dive into what makes it a pro you know as a as a youtuber. I think a lot about this as a content creator. Am i a pro iphone user? I don't know, there's a lot to talk about there, but that's been the iphone 12. thanks for watching much coming up very soon, because you know tech toby guys it's over catch. You guys in the next one back peace and on and on \"\n"
     ]
    }
   ],
   "source": [
    " print(mkbhdTranscript)"
   ]
  },
  {
   "cell_type": "code",
   "execution_count": 19,
   "metadata": {},
   "outputs": [],
   "source": [
    "import spacy\n",
    "nlp = spacy.load(\"en_core_web_sm\")"
   ]
  },
  {
   "cell_type": "code",
   "execution_count": 24,
   "metadata": {},
   "outputs": [],
   "source": [
    "mkbhd = str(mkbhdTranscript)\n",
    "davelee = str(daveleeTranscript)"
   ]
  },
  {
   "cell_type": "code",
   "execution_count": 135,
   "metadata": {},
   "outputs": [
    {
     "data": {
      "text/plain": [
       "b\"Okay, so the title of this video has the pro in brackets: it's both the iphone 12 and the iphone 12 pro in one video and when i first started using these phones, i had originally planned on doing two separate reviews, one for the pro one for the Non-Pro, but as i use these phones more, i realized that they had to be done in one video for me on my channel. This had to be a one video, because there's so much that's like intertwined between these two phones, there's so many things in common between them. They have the same flat: edge, design, the same dimensions, same screen, size same screen, res the same notch sizes same magsafe, compatibility, same charging speeds, they even have the same charging brick. So clearly, there's a lot in common between these two phones. So if you have a conversation about one, it's just highly dependent on the other. Now, if you take a step back and you look at the pricing, the iphone 12 is an 800 phone and for 25, more pay a thousand bucks and get the iphone 12 pro. Now, for apple, this is a little strange to have phones that have a pretty different price point, but to have such a similar feature set, but here's the thing - i don't think this was the original plan, i think for apple. The iphone 12 pro was supposed to be a more substantial step up from the iphone 12. like this was supposed to have a 120 hertz display. We saw the rumors in the summer. This was going to have the high refresh screen, but somehow it didn't make it to these units, whether it's a supply chain issue or whatever the reason being. These don't have high refresh screens. So it's pushed the 12 pro closer to the 12 in terms of feature set and keep that in mind, because it's going to come back into play towards the end of the video. Now both of these phones are excellent iphones. I love the flat edges and the super flat screen. The form factor is really nice, and the pacific blue on the pro is just a phenomenal color. This is like it's so hard to showcase this thing properly in videos. It'S something you get to see in real life, but this is a really really nice. Looking color to me and the displays on these phones are very similar. They'Re both 6.1 inches high resolution, oled tech they're nearly impossible to tell apart the iphone 12 pro, gets a little bit brighter, but i think the vast majority of people will find both of these screens really really good and seriously indistinguishable unless you're looking at them side By side and really looking for a difference in regards to ceramic shield, that's the tech, where apple claims a four times improvement in drop protection. That may be the case for drops and like shattered glass, but in terms of scratches, i don't think there's a noticeable improvement, at least not for me. I had this in my pocket in the same side as my keys, i normally try to separate it, but occasionally your phone goes into your key pocket right and i got a scratch it's unfortunate. But if you are someone who cares about this kind of stuff, you're still going to need a kind of screen protector, there's a new one from dbrand that uses tempered glass and it has a really good fit on these devices. Now, in terms of the battery, both of these devices have the same battery size they're, both around 2800 milliamp hours and the iphone 12 lasts longer than the iphone 12 pro. The 11 pro with the bigger battery and the smaller screen lasts the longest, but the 12 pro is kind of short. I don't know why. I can't explain it. Maybe it's a difference in software tweaks. Maybe it's the extra ram on the pro. Maybe the screens are actually more different than it seems on paper, but that's just that's just what i'm getting right now in terms of 4g versus 5g connectivity. I can only test for 4g up here in canada, so the battery life is good, but i have no idea what it'd be like if i connected these two 5g towers now magsafe the tech is neat, but it's not super impressive to me. I haven't seen anything from the magsafe accessories that really jump out to me as being like you know, i got ta have this right now the magnetically attached wireless charging is nice, but it's not. It doesn't feel super new to me. I originally thought, though, that having a ring of magnets on the back of your phone, isn't it doesn't impede anything right for the people that don't want to use magsafe anything. It doesn't change the phone experience, but i don't know because having a series of magnets embedded into the chassis of these phones, it has to take up some room in there right. Maybe they have to use smaller batteries in there this year to implement magsafe. So it's cool that it's there, but i think we have to wait a little bit to see the true potential of what this tech is going to bring to the iphone ecosystem. Now onto the cameras. The difference between these two phones lies in the camera system. They both now have low light ultrawides, it's something that the iphone 11s and the 11 pros really lacked, and they have them now. They are pretty good, but they're. Not amazing right, i feel, like ultra wide photography done in low light conditions, is really tough. There'S just a lot of data that has to collect and there's not a lot of light when it's dark and it's a difficult shot to do. The iphone 12 and the iphone 12 pro handle them reasonably well now, in terms of the regular wide lens, because the 12 pro has the lidar scanner. It often shoots better when it comes to tough conditions and in terms of portrait photography, it can also take advantage of that tech, it'll focus faster and give the system better depth information. Now, in terms of the regular photos, i find that the 12 and the 12 pro shoot better than last year's iphones, particularly it comes to shots with more dynamic range, as well as shots that are showing more detail. There'S just more clarity in the shots taken from the iphone 12s. The 12 pro does have the benefit of the 2x optical zoom, but they can both shoot in something called dolby vision. Hdr. Now because i use adobe premiere and it can't even handle this new kind of footage, i can't show it to you at least not unless i use a completely different editing program, but this tech is seemingly quite good, so john from tld, he shot a pretty cool Hdr video with these phones that i'll link below, but it's tech that isn't easy to kind of visualize right now, because not a lot of phones can even support this type of visual experience. But the iphone 12s can shoot view and edit it all on the device. Now i want to talk about pricing. This is a very important part of the conversation. The iphone 12 at 800 is an expensive phone, certainly not cheap, but it's a well-rounded phone this year. It'S a strangely well-rounded phone, and i use the word strangely because it has such a similar feature set to the more expensive 12 pro, the significantly more expensive. 12. Pro so, the 12 gets an easy recommendation for me. If you've been eyeing it and you can afford it, it's a it's, a very solid phone, the 12 pro when i first saw this on day one my kind of knee-jerk reaction is it's overpriced. It'S too similar in feature set to the 12, but once you match the storage option, you're getting a better build quality, you're, getting a more robust camera system. Although battery life is slightly less you're, not paying a huge amount of money for that extra 12 pro experience, but there is one last kind of twist to this story. At the beginning of the video i talked about how this phone was likely going to be upgraded to a 120 hertz panel next year right. I think those panels will only appear in the pro options like that would be the best way for apple to distinguish their pro phones from the non-pro phones. That'S my guess! So if you're, someone who cares about high refresh screens - and you buy one of these this year, when the iphone 13 pro whatever they call it, when that comes out next year, you're gon na be extremely tempted to buy that one as well and so a phone That should last three four five years is now going to last one year now. This is only for people that care about high refresh screens and on this channel i think a lot of my viewers do i'm just putting it out there. So if you're someone who's drawn to either of these phones this year, keep that in mind, because this year the phones are weirdly similar, but next year i think the difference will be more substantial, possibly in price as well, and that is my iphone 12 and 12. Pro review hope you guys enjoyed it thumbs if you liked it subs. If you loved it i'll see you guys next time you \""
      ]
     },
     "execution_count": 135,
     "metadata": {},
     "output_type": "execute_result"
    }
   ],
   "source": [
    "daveleeTranscript"
   ]
  },
  {
   "cell_type": "code",
   "execution_count": 96,
   "metadata": {},
   "outputs": [],
   "source": [
    "featureList = [ 'video', 'videos', 'color', 'colors', 'camera', 'cameras', 'screen', 'screens',\n",
    "               'display', 'displays', 'picture', 'pictures',\n",
    "               'selfie', 'selfies', 'sensor', 'performance', 'chip', 'chips', 'processor', \n",
    "               'battery', 'charging', 'charger' , 'watts' ,'size', 'scratch', 'glass', 'body',\n",
    "               'hardware', 'gigs', 'bucks', 'ram',\n",
    "               'sound', 'speaker', 'speakers'\n",
    "              ]\n",
    "display = ['screen', 'screens', 'display', 'displays', 'brightness', 'refresh rate']\n",
    "camera = ['video', 'videos', 'camera', 'cameras', 'selfie', 'selfies', 'picture', 'pictures']"
   ]
  },
  {
   "cell_type": "code",
   "execution_count": 75,
   "metadata": {},
   "outputs": [
    {
     "data": {
      "text/plain": [
       "['screen', 'screens', 'display', 'displays', 'brightness', 'refresh rate']"
      ]
     },
     "execution_count": 75,
     "metadata": {},
     "output_type": "execute_result"
    }
   ],
   "source": [
    "display"
   ]
  },
  {
   "cell_type": "code",
   "execution_count": 120,
   "metadata": {},
   "outputs": [],
   "source": [
    "summary_mkbhd = \"hey what's up mkbhd here, and this is the iphone 12.. i feel, like we've all seen an iphone before at this point. with this new design, shall we i love this super flat design. all the little micro scratches that your phone gathers over time and the thing about scratch resistance is it's typically inversely proportional to shatter resistance. of course, zach will probably tell us the truth there, so if it shatters a lot less when dropped, we'll see, that would be nice, but i feel like a lot of the drop stuff. it's definitely gon na crack right and if i happen to drop my phone another way, it's probably not going to so i don't know. i don't want to worry about too much use the case. yes, it is still qi charging, so you can still charge the iphone 12 with other wireless chargers and you can charge other phones with the magsafe puck if you're into that number two, the durability concern with magsafe leaving marks on the iphone. i have noticed that on mine too, but i don't think it'll turn out to be a long-term problem. so i didn't really have any non-magsafe cases here to test, but of course, channel sponsored dbrand sent over a grip case, and i can confirm it's thin enough to work just fine with a magsafe charger. kinda, like it is a magsafe charger and, yes, all the other benefits of a case, grippiness protection, they all still apply. so since i know most people end up looking for a good one. i'll leave a link to this case below now. so you can charge the phone and when you don't need to charge it, you can put the wallet back on that seems to check out, like i said, it's a whole thing, but today, optional battery life on these phones has actually been pretty good, but not noticeably better than last year, at all matter of fact, it's actually a slightly larger higher res display and actually a smaller physical battery. that was really easy to make fun of to this. much better and even slightly bigger, 6.1 inch, 1080p oled, it's like night and day, it's basically on par with the pro, which is actually pretty surprising to me, just a slightly lower peak brightness. i kind of love and hate 5g right now, so this slogan apple, and i guess the carriers 2 really keep pushing that 5g. has its ups and its downs like this iphone 12. i'm using here has verizon 5g, which is surprisingly actually in my area. it's not millimeter wave, it's not ultra wide band, but it can still give me roughly 20 faster download and upload speeds, but 5g radios are also pretty power hungry and the more time you spend on 5g, the more battery you bleed through now apple's thought a lot about this, of course, so their solution and you might have caught it on stage during the announcement - is called smart data mode and basically it tries to only use 5g when you actually need it to save battery. so when you're in a 4g area, you're on 4g speeds everything works with lte no problem. the best technologies are supposed to be invisible. like you shouldn't, even notice, they work. but if you do get this phone now, then maybe it'll be a nice bonus if you're in a 5g area or in the future. new iphone equals new best camera ever in an iphone right. so that's not a letdown but iphone video, though firmly in a league of its own. it firmly like every time i test a new iphone camera. it's just the video camera is so much better and people care a lot about video. hdr these new iphones are the first cameras, the only cameras in the world to shoot bit high, dynamic range, dolby, vision, 4k, video and that's awesome. hdr video is awesome, higher brighter brights, deeper shadows, overall, better images even better perceived quality. hdr10 is one of them and that some other smartphones have actually started enabling you to shoot. certified some aren't, so you can look at the display. even performance is familiar since there's nothing super new like high refresh rate. the display is better battery life's about the same cameras are a little bit better. the price is a little higher because also 5g is built into the phone, even for people who are never going to use it. but that being said there, you have it great work, apple and definitely stay tuned for the review on the pro i want to dive into what makes it a pro you know as a as a youtuber. i think a lot about this as a content creator. you guys in the next one back peace and on and on\""
   ]
  },
  {
   "cell_type": "code",
   "execution_count": 136,
   "metadata": {},
   "outputs": [],
   "source": [
    "summary_dave = \"okay, so the title of this video has the pro in brackets: it's both the iphone 12 and the iphone 12 pro in one video and when i first started using these phones, i had originally planned on doing two separate reviews, one for the pro one for the non-pro, but as i use these phones more, i realized that they had to be done in one video for me on my channel. so if you have a conversation about one, it's just highly dependent on the other. now, if you take a step back and you look at the pricing, the iphone 12 is an 800 phone and for 25, more pay a thousand bucks and get the iphone 12 pro. like this was supposed to have a 120 hertz display. now both of these phones are excellent iphones. i love the flat edges and the super flat screen. it's something you get to see in real life, but this is a really really nice. maybe it's a difference in software tweaks. i haven't seen anything from the magsafe accessories that really jump out to me as being like you know, i got ta have this right now the magnetically attached wireless charging is nice, but it's not. it doesn't change the phone experience, but i don't know because having a series of magnets embedded into the chassis of these phones, it has to take up some room in there right. the difference between these two phones lies in the camera system. now, in terms of the regular photos, i find that the 12 and the 12 pro shoot better than last year's iphones, particularly it comes to shots with more dynamic range, as well as shots that are showing more detail. now because i use adobe premiere and it can't even handle this new kind of footage, i can't show it to you at least not unless i use a completely different editing program, but this tech is seemingly quite good, so john from tld, he shot a pretty cool hdr video with these phones that i'll link below, but it's tech that isn't easy to kind of visualize right now, because not a lot of phones can even support this type of visual experience. this is a very important part of the conversation. pro so, the 12 gets an easy recommendation for me. at the beginning of the video i talked about how this phone was likely going to be upgraded to a 120 hertz panel next year right. this is only for people that care about high refresh screens and on this channel i think a lot of my viewers do i'm just putting it out there. pro review hope you guys enjoyed it thumbs if you liked it subs. if you loved it i'll see you guys next time you\""
   ]
  },
  {
   "cell_type": "code",
   "execution_count": 137,
   "metadata": {},
   "outputs": [
    {
     "name": "stdout",
     "output_type": "stream",
     "text": [
      "0 4 title\n",
      "0 7 video\n",
      "0 10 pro\n",
      "0 12 brackets\n",
      "1 24 pro\n",
      "1 27 video\n",
      "2 35 phones\n",
      "2 45 reviews\n",
      "2 51 one\n",
      "2 63 phones\n",
      "2 76 video\n",
      "2 81 channel\n",
      "3 88 conversation\n",
      "4 107 step\n",
      "4 114 pricing\n",
      "4 122 phone\n",
      "4 131 bucks\n",
      "5 137 pro\n",
      "6 147 hertz\n",
      "6 148 display\n",
      "7 154 phones\n",
      "7 157 iphones\n",
      "8 163 edges\n",
      "8 168 screen\n",
      "9 179 life\n",
      "10 193 difference\n",
      "10 195 software\n",
      "10 196 tweaks\n",
      "11 205 magsafe\n",
      "11 206 accessories\n",
      "13 230 charging\n",
      "14 244 phone\n",
      "14 245 experience\n",
      "14 255 series\n",
      "14 257 magnets\n",
      "14 261 chassis\n",
      "14 264 phones\n",
      "14 272 room\n",
      "15 278 difference\n",
      "15 282 phones\n",
      "15 286 camera\n",
      "15 287 system\n",
      "16 292 terms\n",
      "16 296 photos\n",
      "16 306 pro\n",
      "16 311 year\n",
      "16 313 iphones\n",
      "16 319 shots\n",
      "16 323 range\n",
      "16 328 shots\n",
      "16 333 detail\n",
      "17 349 kind\n",
      "17 351 footage\n",
      "17 369 editing\n",
      "17 370 program\n",
      "17 374 tech\n",
      "17 390 hdr\n",
      "17 391 video\n",
      "17 394 phones\n",
      "17 404 tech\n",
      "17 419 lot\n",
      "17 421 phones\n",
      "17 426 type\n",
      "17 429 experience\n",
      "18 436 part\n",
      "18 439 conversation\n",
      "20 449 recommendation\n",
      "21 455 beginning\n",
      "21 458 video\n",
      "21 464 phone\n",
      "21 474 hertz\n",
      "21 475 panel\n",
      "21 477 year\n",
      "22 484 people\n",
      "22 489 refresh\n",
      "22 490 screens\n",
      "22 494 channel\n",
      "22 498 lot\n",
      "22 501 viewers\n",
      "23 512 review\n",
      "23 515 guys\n",
      "25 533 guys\n",
      "25 535 time\n"
     ]
    }
   ],
   "source": [
    "doc = nlp(summary_mkbhd)\n",
    "#for token in doc:\n",
    "#  if(token.pos_ == 'NOUN'):\n",
    "#    print(token.text, token.pos_, token.dep_)\n",
    "\n",
    "for sent_i, sent in enumerate(doc.sents):\n",
    "    for token in sent:\n",
    "        if(token.pos_ == 'NOUN'):\n",
    "            #print(token.text, token.pos_, token.dep_)\n",
    "            print(sent_i, token.i, token.text)"
   ]
  },
  {
   "cell_type": "code",
   "execution_count": 129,
   "metadata": {},
   "outputs": [],
   "source": [
    "sentence = set()\n",
    "for sent_i, sent in enumerate(doc.sents):\n",
    "    for token in sent:\n",
    "        if(token.pos_ == 'NOUN'):\n",
    "            for feature in display:\n",
    "                if(token.text==feature):\n",
    "                #if(token.text=='camera' or token.text=='cameras'):\n",
    "                    #if(sent_i==):\n",
    "                    sentence.add(sent)"
   ]
  },
  {
   "cell_type": "code",
   "execution_count": 288,
   "metadata": {},
   "outputs": [],
   "source": [
    "sentenceDave = set()\n",
    "doc = nlp(summary_dave)\n",
    "for sent_i, sent in enumerate(doc.sents):\n",
    "    for token in sent:\n",
    "        if(token.pos_ == 'NOUN'):\n",
    "            for feature in display:\n",
    "                if(token.text==feature):\n",
    "                    #if(token.text=='camera' or token.text=='cameras'):\n",
    "                    #if(sent_i==):\n",
    "                    sentenceDave.add(sent)"
   ]
  },
  {
   "cell_type": "code",
   "execution_count": 271,
   "metadata": {},
   "outputs": [
    {
     "name": "stdout",
     "output_type": "stream",
     "text": [
      "Okay, you can kill it in a day with six hours of screen on time\n",
      "Certified some aren't, so you can look at the display.\n",
      "Like a case that works for one works for the other same main cameras, almost the same screen same battery same charging, but there's a couple things that only apply to the pro\n",
      "It doesn't show up as that hdr on most people's screens.\n",
      "If you want to use a screen protector, if you really want to i'm just going to\n",
      "It goes up to 120 hertz when you're scrolling and playing games and actually using it, but when you're not you're just sitting on the home screen or watching a video, it will go down to 24 hertz to save battery.\n",
      "Much better and even slightly bigger, 6.1 inch, 1080p oled, it's like night and day, it's basically on par with the pro, which is actually pretty surprising to me, just a slightly lower peak brightness.\n",
      ", it's actually a slightly larger higher res display and actually a smaller physical battery.\n",
      "The actual best new piece of the iphone 12, though, is definitely the new display.\n",
      "The pros would get 120 hertz displays this year, but obviously none of them did, which is a bummer.\n",
      "It'S a great phone, the best new parts of it are definitely the display, which was a huge knock up from last year, knock up\n",
      "Some displays are adobe vision.\n",
      ", it's not the typical, almost flat where the screen is flat right up to the edges, and then it curves over the very edge\n",
      "I have no idea how they'll land on that 4x number, but all right, all i know, is - i already have a little gash in my screen on the left hand side here, which is so sad, but that's probably out of level six,\n",
      "Much better screen is pretty damn good.\n",
      "The display is better battery life's about the same cameras are a little bit better.\n"
     ]
    }
   ],
   "source": [
    "for text in sentenceDave:\n",
    "    print(text)"
   ]
  },
  {
   "cell_type": "code",
   "execution_count": 124,
   "metadata": {},
   "outputs": [],
   "source": [
    "from textblob import TextBlob"
   ]
  },
  {
   "cell_type": "code",
   "execution_count": 130,
   "metadata": {},
   "outputs": [],
   "source": [
    "df = []\n",
    "for text in sentence:\n",
    "    sent_dic = {}\n",
    "    sent_dic['sentence'] = str(text)\n",
    "    sent_dic['polarity'] = TextBlob(str(text)).sentiment.polarity\n",
    "    df.append(sent_dic)\n",
    "#TextBlob(str(list(sentence)[1])).sentiment.polarity"
   ]
  },
  {
   "cell_type": "code",
   "execution_count": 289,
   "metadata": {},
   "outputs": [],
   "source": [
    "df_dave = []\n",
    "for text in sentenceDave:\n",
    "    sent_dic = {}\n",
    "    df_dave.append(text)\n",
    "    sent_dic['sentence'] = str(text)\n",
    "    #sent_dic['polarity'] = TextBlob(str(text)).sentiment.polarity\n",
    "    df_dave.append(str(text))\n",
    "#TextBlob(str(list(sentence)[1])).sentiment.polarity"
   ]
  },
  {
   "cell_type": "code",
   "execution_count": 290,
   "metadata": {},
   "outputs": [
    {
     "data": {
      "text/plain": [
       "0.15722222222222224"
      ]
     },
     "execution_count": 290,
     "metadata": {},
     "output_type": "execute_result"
    }
   ],
   "source": [
    "TextBlob(''.join(str(df_dave))).sentiment.polarity"
   ]
  },
  {
   "cell_type": "code",
   "execution_count": 245,
   "metadata": {},
   "outputs": [
    {
     "data": {
      "text/plain": [
       "[Now onto the cameras.,\n",
       " {'sentence': 'Now onto the cameras.', 'polarity': 0.0},\n",
       " b\"Okay, so the title of this video has the pro in brackets: it's both the iphone 12 and the iphone,\n",
       " {'sentence': 'b\"Okay, so the title of this video has the pro in brackets: it\\'s both the iphone 12 and the iphone',\n",
       "  'polarity': 0.5},\n",
       " At the beginning of the video i talked about how this phone was likely going to be upgraded to a 120 hertz panel next year right.,\n",
       " {'sentence': 'At the beginning of the video i talked about how this phone was likely going to be upgraded to a 120 hertz panel next year right.',\n",
       "  'polarity': 0.09523809523809523},\n",
       " This is like it's so hard to showcase this thing properly in videos.,\n",
       " {'sentence': \"This is like it's so hard to showcase this thing properly in videos.\",\n",
       "  'polarity': -0.14583333333333334},\n",
       " and when i first started using these phones, i had originally planned on doing two separate reviews, one for the pro one for the Non-Pro, but as i use these phones more, i realized that they had to be done in one video for me on my channel.,\n",
       " {'sentence': 'and when i first started using these phones, i had originally planned on doing two separate reviews, one for the pro one for the Non-Pro, but as i use these phones more, i realized that they had to be done in one video for me on my channel.',\n",
       "  'polarity': 0.375},\n",
       " 12 pro in one video,\n",
       " {'sentence': '12 pro in one video', 'polarity': 0.0},\n",
       " The difference between these two phones lies in the camera system.,\n",
       " {'sentence': 'The difference between these two phones lies in the camera system.',\n",
       "  'polarity': 0.0},\n",
       " , you're, getting a more robust camera system.,\n",
       " {'sentence': \", you're, getting a more robust camera system.\",\n",
       "  'polarity': 0.5},\n",
       " This had to be a one video, because there's so much,\n",
       " {'sentence': \"This had to be a one video, because there's so much\",\n",
       "  'polarity': 0.2},\n",
       " , i can't show it to you at least not unless i use a completely different editing program, but this tech is seemingly quite good, so john from tld, he shot a pretty cool Hdr video with these phones that i'll link below, but it's tech that isn't easy to kind of visualize right now, because not a lot of phones can even support this type of visual experience.,\n",
       " {'sentence': \", i can't show it to you at least not unless i use a completely different editing program, but this tech is seemingly quite good, so john from tld, he shot a pretty cool Hdr video with these phones that i'll link below, but it's tech that isn't easy to kind of visualize right now, because not a lot of phones can even support this type of visual experience.\",\n",
       "  'polarity': 0.25767195767195766},\n",
       " So it's pushed the 12 pro closer to the 12 in terms of feature set and keep that in mind, because it's going to come back into play towards the end of the video.,\n",
       " {'sentence': \"So it's pushed the 12 pro closer to the 12 in terms of feature set and keep that in mind, because it's going to come back into play towards the end of the video.\",\n",
       "  'polarity': 0.0}]"
      ]
     },
     "execution_count": 245,
     "metadata": {},
     "output_type": "execute_result"
    }
   ],
   "source": [
    "df_dave"
   ]
  },
  {
   "cell_type": "code",
   "execution_count": 164,
   "metadata": {},
   "outputs": [],
   "source": [
    "screenList = []\n",
    "for row in df_dave:\n",
    "    screenList.append(row['sentence'])\n",
    "screen_review = ' '.join(screenList)"
   ]
  },
  {
   "cell_type": "code",
   "execution_count": 165,
   "metadata": {
    "scrolled": true
   },
   "outputs": [
    {
     "data": {
      "text/plain": [
       "0.27589586339586336"
      ]
     },
     "execution_count": 165,
     "metadata": {},
     "output_type": "execute_result"
    }
   ],
   "source": [
    "TextBlob(screen_review).sentiment.polarity"
   ]
  },
  {
   "cell_type": "code",
   "execution_count": 155,
   "metadata": {},
   "outputs": [],
   "source": [
    "import nltk\n",
    "from nltk.corpus import stopwords\n",
    "stop_words = stopwords.words('english')\n",
    "def cleanAndPreProcess(speech):\n",
    "    for char in '!#$%&@?,.:;+-*/=<>\"\\'()[\\\\]X{|}~\\n\\t¦¡§':\n",
    "        speech = speech.replace(char, ' ')\n",
    "    speech = speech.lower()\n",
    "    word_list = speech.split()\n",
    "    word_list = [w for w in word_list if w not in stop_words]\n",
    "    return word_list"
   ]
  },
  {
   "cell_type": "code",
   "execution_count": 194,
   "metadata": {},
   "outputs": [
    {
     "ename": "NameError",
     "evalue": "name 'mkbhd_summary' is not defined",
     "output_type": "error",
     "traceback": [
      "\u001b[1;31m---------------------------------------------------------------------------\u001b[0m",
      "\u001b[1;31mNameError\u001b[0m                                 Traceback (most recent call last)",
      "\u001b[1;32m<ipython-input-194-cf8ce91ed01a>\u001b[0m in \u001b[0;36m<module>\u001b[1;34m\u001b[0m\n\u001b[1;32m----> 1\u001b[1;33m \u001b[0mmkbhd_summary\u001b[0m\u001b[1;33m\u001b[0m\u001b[1;33m\u001b[0m\u001b[0m\n\u001b[0m",
      "\u001b[1;31mNameError\u001b[0m: name 'mkbhd_summary' is not defined"
     ]
    }
   ],
   "source": [
    "mkbhd_summary"
   ]
  },
  {
   "cell_type": "code",
   "execution_count": 171,
   "metadata": {},
   "outputs": [],
   "source": [
    "df_corpus = pd.read_excel(r'C:\\Users\\gokul\\python notebooks\\reviewsproductsAndPrices.xlsx')"
   ]
  },
  {
   "cell_type": "code",
   "execution_count": 178,
   "metadata": {},
   "outputs": [
    {
     "name": "stdout",
     "output_type": "stream",
     "text": [
      "15884\n",
      "5064\n",
      "6369\n",
      "8179\n",
      "6940\n",
      "4987\n",
      "9184\n",
      "4273\n",
      "13393\n",
      "7954\n",
      "6463\n",
      "5462\n",
      "15476\n",
      "13597\n",
      "6126\n",
      "6372\n",
      "7767\n",
      "7445\n",
      "10742\n",
      "19953\n",
      "9418\n",
      "9959\n",
      "7839\n",
      "11663\n",
      "5395\n",
      "12417\n",
      "12358\n",
      "8407\n",
      "8153\n",
      "12011\n",
      "5944\n",
      "13547\n",
      "5525\n",
      "13701\n",
      "12971\n",
      "17036\n",
      "9467\n",
      "7775\n",
      "10361\n",
      "2080\n",
      "9682\n",
      "16859\n",
      "11481\n",
      "10449\n",
      "14943\n",
      "12972\n",
      "8054\n",
      "7682\n",
      "11785\n",
      "15278\n",
      "8847\n",
      "8407\n",
      "7472\n",
      "9499\n",
      "7147\n",
      "7928\n",
      "8677\n",
      "3746\n",
      "6898\n",
      "6626\n",
      "8841\n",
      "8752\n",
      "11085\n",
      "5627\n",
      "7320\n",
      "9365\n",
      "1223\n",
      "10734\n",
      "4033\n",
      "7754\n",
      "4968\n",
      "2880\n",
      "5265\n",
      "5190\n",
      "6355\n",
      "2683\n",
      "3208\n",
      "6044\n",
      "3966\n",
      "5591\n",
      "5112\n",
      "4676\n",
      "3865\n",
      "6676\n",
      "4500\n",
      "4768\n",
      "3827\n",
      "4541\n",
      "3082\n",
      "4613\n",
      "3522\n",
      "10768\n",
      "15102\n",
      "13385\n",
      "8207\n",
      "9815\n",
      "11049\n",
      "12279\n",
      "7533\n",
      "10688\n",
      "11345\n",
      "9903\n",
      "13809\n",
      "9133\n",
      "10688\n",
      "16371\n",
      "11848\n",
      "18542\n",
      "10061\n",
      "11642\n",
      "9617\n",
      "7433\n",
      "19939\n",
      "6812\n",
      "8169\n",
      "8306\n",
      "9875\n",
      "16729\n",
      "7922\n",
      "12586\n",
      "8126\n",
      "10924\n",
      "7519\n",
      "7757\n",
      "6737\n",
      "10002\n",
      "16851\n",
      "7736\n",
      "8652\n",
      "10216\n",
      "7667\n",
      "11990\n",
      "11732\n",
      "17434\n",
      "9421\n",
      "16470\n",
      "10685\n",
      "13448\n",
      "13448\n",
      "12348\n",
      "11925\n",
      "13189\n",
      "14361\n",
      "13387\n",
      "5516\n",
      "10060\n",
      "8570\n",
      "18034\n",
      "4887\n",
      "11520\n",
      "12574\n",
      "11396\n",
      "11673\n",
      "14825\n",
      "7966\n",
      "6779\n",
      "8681\n",
      "10052\n",
      "5688\n",
      "13529\n",
      "6091\n",
      "6198\n",
      "12641\n",
      "12152\n",
      "12793\n",
      "7442\n",
      "5259\n",
      "6534\n",
      "10671\n",
      "6340\n",
      "5212\n",
      "6473\n",
      "9570\n",
      "15530\n",
      "4451\n",
      "11863\n",
      "9067\n",
      "2586\n",
      "15884\n"
     ]
    }
   ],
   "source": [
    "total = 0;\n",
    "lasti = 0;\n",
    "for i in df_corpus.index:\n",
    "    total = total +len(df_corpus.loc[i,'text'])\n",
    "    lasti = i"
   ]
  },
  {
   "cell_type": "code",
   "execution_count": 220,
   "metadata": {},
   "outputs": [
    {
     "name": "stdout",
     "output_type": "stream",
     "text": [
      "3\n"
     ]
    }
   ],
   "source": [
    "sentence = set()\n",
    "doc = nlp(summary_dave)\n",
    "count = 0\n",
    "for sent_i, sent in enumerate(doc.sents):\n",
    "    for token in sent:\n",
    "        if(token.pos_ == 'NOUN'):\n",
    "            for feature in display:\n",
    "                if(token.text==feature):\n",
    "                    #if(token.text=='camera' or token.text=='cameras'):\n",
    "                    #if(sent_i==):\n",
    "                    sentence.add(sent)\n",
    "                    count = count+1\n",
    "print(count)"
   ]
  },
  {
   "cell_type": "code",
   "execution_count": 297,
   "metadata": {},
   "outputs": [
    {
     "data": {
      "text/plain": [
       "\"okay, so the title of this video has the pro in brackets: it's both the iphone 12 and the iphone 12 pro in one video and when i first started using these phones, i had originally planned on doing two separate reviews, one for the pro one for the non-pro, but as i use these phones more, i realized that they had to be done in one video for me on my channel. so if you have a conversation about one, it's just highly dependent on the other. now, if you take a step back and you look at the pricing, the iphone 12 is an 800 phone and for 25, more pay a thousand bucks and get the iphone 12 pro. like this was supposed to have a 120 hertz display. now both of these phones are excellent iphones. i love the flat edges and the super flat screen. it's something you get to see in real life, but this is a really really nice. maybe it's a difference in software tweaks. i haven't seen anything from the magsafe accessories that really jump out to me as being like you know, i got ta have this right now the magnetically attached wireless charging is nice, but it's not. it doesn't change the phone experience, but i don't know because having a series of magnets embedded into the chassis of these phones, it has to take up some room in there right. the difference between these two phones lies in the camera system. now, in terms of the regular photos, i find that the 12 and the 12 pro shoot better than last year's iphones, particularly it comes to shots with more dynamic range, as well as shots that are showing more detail. now because i use adobe premiere and it can't even handle this new kind of footage, i can't show it to you at least not unless i use a completely different editing program, but this tech is seemingly quite good, so john from tld, he shot a pretty cool hdr video with these phones that i'll link below, but it's tech that isn't easy to kind of visualize right now, because not a lot of phones can even support this type of visual experience. this is a very important part of the conversation. pro so, the 12 gets an easy recommendation for me. at the beginning of the video i talked about how this phone was likely going to be upgraded to a 120 hertz panel next year right. this is only for people that care about high refresh screens and on this channel i think a lot of my viewers do i'm just putting it out there. pro review hope you guys enjoyed it thumbs if you liked it subs. if you loved it i'll see you guys next time you\""
      ]
     },
     "execution_count": 297,
     "metadata": {},
     "output_type": "execute_result"
    }
   ],
   "source": [
    "summary_dave"
   ]
  },
  {
   "cell_type": "code",
   "execution_count": 294,
   "metadata": {},
   "outputs": [],
   "source": [
    "# featureList = [ 'video', 'videos', 'color', 'colors', 'camera', 'cameras', 'screen', 'screens',\n",
    "#                'display', 'displays', 'picture', 'pictures',\n",
    "#                'selfie', 'selfies', 'sensor', 'performance', 'chip', 'chips', 'processor', \n",
    "#                'battery', 'charging', 'charger' , 'watts' ,'size', 'scratch', 'glass', 'body',\n",
    "#                'hardware', 'gigs', 'bucks', 'ram',\n",
    "#                'sound', 'speaker', 'speakers'\n",
    "#               ]\n",
    "display = ['screen', 'screens', 'display', 'displays', 'brightness', 'refresh rate', 'hertz']\n",
    "camera = ['video', 'videos', 'camera', 'cameras', 'selfie', 'selfies', 'picture', 'pictures']\n",
    "battery = ['battery', 'charging', 'charger', 'chargers' , 'watts' ]\n",
    "performance = ['sensor', 'performance', 'chip', 'chips', 'processor', 'ram']"
   ]
  },
  {
   "cell_type": "code",
   "execution_count": 295,
   "metadata": {},
   "outputs": [],
   "source": [
    "features = [display,camera,battery,performance]"
   ]
  },
  {
   "cell_type": "code",
   "execution_count": 306,
   "metadata": {},
   "outputs": [
    {
     "name": "stdout",
     "output_type": "stream",
     "text": [
      "{'I love the flat edges and the super flat screen.', 'The 11 pro with the bigger battery and the smaller screen lasts the longest, but the 12 pro is kind of short.', 'They have the same flat: edge, design, the same dimensions, same screen, size same screen, res the same notch sizes same magsafe, compatibility, same charging speeds, they even have the same charging brick.', \"These don't have high refresh screens.\", \"they're nearly impossible to tell apart the iphone 12 pro, gets a little bit brighter, but i think the vast majority of people will find both of these screens really really good and seriously indistinguishable unless you're looking at them side By side and really looking for a difference in regards to ceramic shield\", \"So if you're, someone who cares about high refresh screens - and you buy one of these this year, when the iphone 13 pro whatever they call it,\", 'At the beginning of the video i talked about how this phone was likely going to be upgraded to a 120 hertz panel next year right.', \"This is only for people that care about high refresh screens and on this channel i think a lot of my viewers do i'm just putting it out there.\", 'like this was supposed to have a 120 hertz display.', \"But if you are someone who cares about this kind of stuff, you're still going to need a kind of screen protector, there's a new one from dbrand that uses tempered glass and it has a really good fit on these devices.\", \"This was going to have the high refresh screen, but somehow it didn't make it to these units, whether it's a supply chain issue or whatever the reason being.\", \"Maybe the screens are actually more different than it seems on paper, but that's just that's just what i'm getting right now in terms of 4g versus 5g connectivity.\", 'Looking color to me and the displays on these phones are very similar.'}\n",
      " 0.13046563852813853\n",
      "{\", i can't show it to you at least not unless i use a completely different editing program, but this tech is seemingly quite good, so john from tld, he shot a pretty cool Hdr video with these phones that i'll link below, but it's tech that isn't easy to kind of visualize right now, because not a lot of phones can even support this type of visual experience.\", '12 pro in one video', \"So it's pushed the 12 pro closer to the 12 in terms of feature set and keep that in mind, because it's going to come back into play towards the end of the video.\", 'At the beginning of the video i talked about how this phone was likely going to be upgraded to a 120 hertz panel next year right.', 'b\"Okay, so the title of this video has the pro in brackets: it\\'s both the iphone 12 and the iphone', \", you're, getting a more robust camera system.\", \"This had to be a one video, because there's so much\", 'and when i first started using these phones, i had originally planned on doing two separate reviews, one for the pro one for the Non-Pro, but as i use these phones more, i realized that they had to be done in one video for me on my channel.', \"This is like it's so hard to showcase this thing properly in videos.\", 'The difference between these two phones lies in the camera system.', 'Now onto the cameras.'}\n",
      " 0.22086167800453513\n",
      "{\"right now the magnetically attached wireless charging is nice, but it's not.\", 'The 11 pro with the bigger battery and the smaller screen lasts the longest, but the 12 pro is kind of short.', 'Although battery life is slightly less', \"Now, in terms of the battery, both of these devices have the same battery size they're, both around 2800 milliamp hours and the iphone 12 lasts longer than the iphone 12 pro.\", \"I can only test for 4g up here in canada, so the battery life is good, but i have no idea what it'd be like if i connected\"}\n",
      " 0.2019047619047619\n",
      "{\"Maybe it's the extra ram on the pro.\"}\n",
      " 0.0\n"
     ]
    }
   ],
   "source": [
    "doc = nlp(davelee)\n",
    "for feature in features:\n",
    "    sentence = set()\n",
    "    for things in feature:\n",
    "        #print(things)\n",
    "        for sent_i, sent in enumerate(doc.sents):\n",
    "            for token in sent:\n",
    "                #print(sent_i)\n",
    "                if(token.pos_ == 'NOUN'):\n",
    "                    if(token.text==things):\n",
    "                        sentence.add(sent.text)\n",
    "    pol_cal = ''.join(list(str(sentence)))\n",
    "    print(pol_cal+\"\\n\",TextBlob(pol_cal).sentiment.polarity)"
   ]
  },
  {
   "cell_type": "code",
   "execution_count": 307,
   "metadata": {},
   "outputs": [
    {
     "name": "stdout",
     "output_type": "stream",
     "text": [
      "{\"If you want to use a screen protector, if you really want to i'm just going to\", \", it's actually a slightly larger higher res display and actually a smaller physical battery.\", \"It doesn't show up as that hdr on most people's screens.\", \"Much better and even slightly bigger, 6.1 inch, 1080p oled, it's like night and day, it's basically on par with the pro, which is actually pretty surprising to me, just a slightly lower peak brightness.\", \"Like a case that works for one works for the other same main cameras, almost the same screen same battery same charging, but there's a couple things that only apply to the pro\", \"I have no idea how they'll land on that 4x number, but all right, all i know, is - i already have a little gash in my screen on the left hand side here, which is so sad, but that's probably out of level six,\", 'Much better screen is pretty damn good.', \"Now it's 60 hertz again and\", 'The pros would get 120 hertz displays this year, but obviously none of them did, which is a bummer.', \"Certified some aren't, so you can look at the display.\", \"It'S a great phone, the best new parts of it are definitely the display, which was a huge knock up from last year, knock up\", 'Okay, you can kill it in a day with six hours of screen on time', \", it's not the typical, almost flat where the screen is flat right up to the edges, and then it curves over the very edge\", \"It goes up to 120 hertz when you're scrolling and playing games and actually using it, but when you're not you're just sitting on the home screen or watching a video, it will go down to 24 hertz to save battery.\", 'Some displays are adobe vision.', \"The display is better battery life's about the same cameras are a little bit better.\", 'The actual best new piece of the iphone 12, though, is definitely the new display.'}\n",
      " 0.17057749506729097\n",
      "{'It firmly like every time i test a new iphone camera.', \"The standard has a slightly wider aperture at f 1.6 instead of f 1.8, and, to be honest, it's not really much of a difference in the camera like it's just not same as the pixel they're\", \"Like a case that works for one works for the other same main cameras, almost the same screen same battery same charging, but there's a couple things that only apply to the pro\", 'Hdr video is awesome, higher brighter brights, deeper shadows, overall, better images even better perceived quality.', \"The most difficult photo and video taking scenarios so like handheld in low light, that'll be better night mode, will be better, auto focus on fast moving subjects.\", \"and i'll go over those in that video.\", \"They take a lot of videos, so you'd want to know\", \"The display is better battery life's about the same cameras are a little bit better.\", \"Well sure, iphone 12's got a slightly updated dual camera system with a standard and an ultra wide.\", \"It does seem like there's more flaring in low light, video like just a ton of little orbs for every little point, light source, but it's still very usable, though now you might have heard about dolby vision.\", \"All sort of see where this is going, which is apple, is slowly moving towards eventually making a portless iphone, which i think that's a whole separate video's worth of rant.\", \"So, first of all, i did a video all about 5g, where i went to a 5g area testing it explaining it showing what's good about it and what its limitations are.\", \"the iphone takes great video and that's despite not shooting 8k, and not having a huge new sensor or anything crazy like that.\", \"So that's not a letdown but iphone video, though firmly in a league of its own.\", \", there's about to be millions of new devices and new people out there shooting tons of hdr video and looking to share It\", 'this phone with best in class cameras best in class performance.', \"and you're doing a lot of bandwidth, intensive stuff, you're downloading a bunch of videos and music you're face timing and crispy hd\", \"It goes up to 120 hertz when you're scrolling and playing games and actually using it, but when you're not you're just sitting on the home screen or watching a video, it will go down to 24 hertz to save battery.\", 'But i want to save my full analysis of that for the video about the pros, because i think pros care even more about video stuff', 'New iphone equals new best camera ever in an iphone right.', \"It'S just the video camera is so much better and people care a lot about video.\", 'You might have a smartphone in your pocket right now that is already capable of shooting hdr10 video, but the issue with new formats is always compatibility, so some tvs are hdr10 certified.', 'it looks amazing and if you send this video to another iphone 12', 'The video you take on the iphone', 'Hdr these new iphones are the first cameras, the only cameras in the world to shoot bit high, dynamic range, dolby, vision, 4k, video and', \"We'Ve seen the rounded corners and the notch and the lightning port, but there are a couple key changes this year that are a first in the iphone, so i've been using this iphone 12 for a bit since my impressions, video and it's my favorite iphone ever mostly Because of this design, but if you're considering getting one there's some stuff, you should know now i'm going to do a separate video on the pro in this sweet blue color.\"}\n",
      " 0.21265769300144308\n",
      "{\", it's actually a slightly larger higher res display and actually a smaller physical battery.\", \"The display is better battery life's about the same cameras are a little bit better.\", 'So the number one magsafe accessory that apple sells is the puck charger.', \"So you can charge the phone and when you don't need to charge it, you can put the wallet back on that seems to check out, like i said, it's a whole thing, but today, optional battery life on these phones has actually been pretty good, but not noticeably Better than last year, at all matter of fact\", 'This charges at 15 watts, while every other wireless charger on the iphone, still charges at seven and a half watts and a couple other faqs on this number one.', 'Kinda, like it is a magsafe charger', \"Like a case that works for one works for the other same main cameras, almost the same screen same battery same charging, but there's a couple things that only apply to the pro\", 'So if you buy the charger 40 bucks make sure you have a usbc charging brick', \"But let's be honest, they probably saw that as a battery saving measure, since this phone did also just get 5g.\", 'and then it turns off to save battery kind of like promotion on the ipad pro.', \", the more battery you bleed through now apple's thought a lot About this, of course, so their solution and you might have caught it on stage during the announcement - is called smart data mode and basically it tries to only use 5g when you actually need it to save battery.\", \"It goes up to 120 hertz when you're scrolling and playing games and actually using it, but when you're not you're just sitting on the home screen or watching a video, it will go down to 24 hertz to save battery.\", \"So i didn't really have any non-magsafe cases here to test, but of course, channel sponsored dbrand sent over a grip case, and i can confirm it's thin enough to work just fine with a magsafe charger.\", 'If you want a real battery champ, you can go for the bigger phone.', \"Yes, it is still qi charging, so you can still charge the iphone 12 with other wireless chargers and you can charge other phones with the magsafe puck if you're into that number two, the durability concern with magsafe leaving marks on the iphone.\"}\n",
      " 0.10843946105574012\n",
      "{'this phone with best in class cameras best in class performance.', \"There is the new a14 bionic inside, which is one of the very first five nanometer chips in any device which is a more powerful, cpu and gpu and is paired with 4 gigs of ram and everything's great.\", \"Even performance is familiar since there's nothing super new like high refresh rate.\", \"Later down the road when the phone is 2, 3, 4 years old and hopefully still feeling really fast, but fundamentally there isn't really that much of a difference in these iphones and the performance you get this year versus what last year didn't already do\", \"the iphone takes great video and that's despite not shooting 8k, and not having a huge new sensor or anything crazy like that.\"}\n",
      " 0.288494031221304\n"
     ]
    }
   ],
   "source": [
    "doc = nlp(mkbhd)\n",
    "for feature in features:\n",
    "    sentence = set()\n",
    "    for things in feature:\n",
    "        #print(things)\n",
    "        for sent_i, sent in enumerate(doc.sents):\n",
    "            for token in sent:\n",
    "                #print(sent_i)\n",
    "                if(token.pos_ == 'NOUN'):\n",
    "                    if(token.text==things):\n",
    "                        sentence.add(sent.text)\n",
    "    pol_cal = ''.join(list(str(sentence)))\n",
    "    print(pol_cal+\"\\n\",TextBlob(pol_cal).sentiment.polarity)"
   ]
  },
  {
   "cell_type": "code",
   "execution_count": 308,
   "metadata": {},
   "outputs": [
    {
     "name": "stdout",
     "output_type": "stream",
     "text": [
      "{'like this was supposed to have a 120 hertz display.', \"this is only for people that care about high refresh screens and on this channel i think a lot of my viewers do i'm just putting it out there.\", 'i love the flat edges and the super flat screen.', 'at the beginning of the video i talked about how this phone was likely going to be upgraded to a 120 hertz panel next year right.'}\n",
      " 0.13656084656084655\n",
      "{\"okay, so the title of this video has the pro in brackets: it's both the iphone 12 and the iphone\", 'and when i first started using these phones, i had originally planned on doing two separate reviews, one for the pro one for the non-pro, but as i use these phones more, i realized that they had to be done in one video for me on my channel.', '12 pro in one video', 'the difference between these two phones lies in the camera system.', 'at the beginning of the video i talked about how this phone was likely going to be upgraded to a 120 hertz panel next year right.', \"now because i use adobe premiere and it can't even handle this new kind of footage, i can't show it to you at least not unless i use a completely different editing program, but this tech is seemingly quite good, so john from tld, he shot a pretty cool hdr video with these phones that i'll link below, but it's tech that isn't easy to kind of visualize right now, because not a lot of phones can even support this type of visual experience.\"}\n",
      " 0.27589586339586336\n",
      "{\"right now the magnetically attached wireless charging is nice, but it's not.\"}\n",
      " 0.44285714285714284\n",
      "set()\n",
      " 0.0\n"
     ]
    }
   ],
   "source": [
    "doc = nlp(summary_dave)\n",
    "for feature in features:\n",
    "    sentence = set()\n",
    "    for things in feature:\n",
    "        #print(things)\n",
    "        for sent_i, sent in enumerate(doc.sents):\n",
    "            for token in sent:\n",
    "                #print(sent_i)\n",
    "                if(token.pos_ == 'NOUN'):\n",
    "                    if(token.text==things):\n",
    "                        sentence.add(sent.text)\n",
    "    pol_cal = ''.join(list(str(sentence)))\n",
    "    print(pol_cal+\"\\n\",TextBlob(pol_cal).sentiment.polarity)"
   ]
  },
  {
   "cell_type": "code",
   "execution_count": 393,
   "metadata": {},
   "outputs": [
    {
     "name": "stdout",
     "output_type": "stream",
     "text": [
      "DaveLee Full\n",
      "{'name': 'DaveLee Full', 'feature': 'Display', 'polarity': 0.13046563852813853}\n",
      "{'name': 'DaveLee Full', 'feature': 'Camera', 'polarity': 0.22086167800453513}\n",
      "{'name': 'DaveLee Full', 'feature': 'Battery', 'polarity': 0.2019047619047619}\n",
      "{'name': 'DaveLee Full', 'feature': 'Performance', 'polarity': 0.0}\n",
      "Dave Lee Summary\n",
      "{'name': 'Dave Lee Summary', 'feature': 'Display', 'polarity': 0.13656084656084655}\n",
      "{'name': 'Dave Lee Summary', 'feature': 'Camera', 'polarity': 0.27589586339586336}\n",
      "{'name': 'Dave Lee Summary', 'feature': 'Battery', 'polarity': 0.44285714285714284}\n",
      "{'name': 'Dave Lee Summary', 'feature': 'Performance', 'polarity': 0.0}\n",
      "MKBHD Full\n",
      "{'name': 'MKBHD Full', 'feature': 'Display', 'polarity': 0.17057749506729097}\n",
      "{'name': 'MKBHD Full', 'feature': 'Camera', 'polarity': 0.21265769300144308}\n",
      "{'name': 'MKBHD Full', 'feature': 'Battery', 'polarity': 0.10843946105574012}\n",
      "{'name': 'MKBHD Full', 'feature': 'Performance', 'polarity': 0.288494031221304}\n",
      "MKBHD Summary\n",
      "{'name': 'MKBHD Summary', 'feature': 'Display', 'polarity': 0.16780303030303031}\n",
      "{'name': 'MKBHD Summary', 'feature': 'Camera', 'polarity': 0.29181953463203464}\n",
      "{'name': 'MKBHD Summary', 'feature': 'Battery', 'polarity': 0.12667124542124542}\n",
      "{'name': 'MKBHD Summary', 'feature': 'Performance', 'polarity': 0.2511742424242424}\n"
     ]
    }
   ],
   "source": [
    "all_data = []\n",
    "listoftext = [davelee, summary_dave, mkbhd, summary_mkbhd]\n",
    "namelist = [\"Display\",\"Camera\",\"Battery\",\"Performance\"]\n",
    "reviewers = [\"DaveLee Full\",\"Dave Lee Summary\",\"MKBHD Full\",\"MKBHD Summary\"]\n",
    "for idx1,i in enumerate(listoftext):\n",
    "    mydict = {}\n",
    "    print(reviewers[idx1])\n",
    "    mydict['name'] = reviewers[idx1]\n",
    "    doc = nlp(i)\n",
    "    for idx,feature in enumerate(features):\n",
    "        sentence = set()\n",
    "        for things in feature:\n",
    "            #print(things)\n",
    "            for sent_i, sent in enumerate(doc.sents):\n",
    "                for token in sent:\n",
    "                    #print(sent_i)\n",
    "                    if(token.pos_ == 'NOUN'):\n",
    "                        if(token.text==things):\n",
    "                            sentence.add(sent.text)\n",
    "        \n",
    "        pol_cal = ''.join(list(str(sentence)))\n",
    "        mydict['feature'] = namelist[idx]\n",
    "        mydict['polarity'] = TextBlob(pol_cal).sentiment.polarity\n",
    "        #all_data.append(mydict)\n",
    "        print(mydict)\n",
    "        #print(namelist[idx],TextBlob(pol_cal).sentiment.polarity)"
   ]
  },
  {
   "cell_type": "code",
   "execution_count": 402,
   "metadata": {},
   "outputs": [],
   "source": [
    "d = [{'name': 'DaveLee Full', 'feature': 'Display', 'polarity': 0.13},\n",
    "{'name': 'DaveLee Full', 'feature': 'Camera', 'polarity': 0.22},\n",
    "{'name': 'DaveLee Full', 'feature': 'Battery', 'polarity': 0.20},\n",
    "{'name': 'DaveLee Full', 'feature': 'Performance', 'polarity': 0.0},\n",
    "     {'name': 'Dave Lee Summary', 'feature': 'Display', 'polarity': 0.14},\n",
    "{'name': 'Dave Lee Summary', 'feature': 'Camera', 'polarity': 0.28},\n",
    "{'name': 'Dave Lee Summary', 'feature': 'Battery', 'polarity': 0.45},\n",
    "{'name': 'Dave Lee Summary', 'feature': 'Performance', 'polarity': 0.0},\n",
    "     {'name': 'MKBHD Full', 'feature': 'Display', 'polarity': 0.17},\n",
    "{'name': 'MKBHD Full', 'feature': 'Camera', 'polarity': 0.21},\n",
    "{'name': 'MKBHD Full', 'feature': 'Battery', 'polarity': 0.11},\n",
    "{'name': 'MKBHD Full', 'feature': 'Performance', 'polarity': 0.29},\n",
    "     {'name': 'MKBHD Summary', 'feature': 'Display', 'polarity': 0.17},\n",
    "{'name': 'MKBHD Summary', 'feature': 'Camera', 'polarity': 0.3},\n",
    "{'name': 'MKBHD Summary', 'feature': 'Battery', 'polarity': 0.13},\n",
    "{'name': 'MKBHD Summary', 'feature': 'Performance', 'polarity': 0.25}\n",
    "    ]\n",
    "df = pd.DataFrame(d)"
   ]
  },
  {
   "cell_type": "code",
   "execution_count": 411,
   "metadata": {},
   "outputs": [
    {
     "data": {
      "text/plain": [
       "<bound method NDFrame.head of                 name      feature  polarity\n",
       "0       DaveLee Full      Display      0.13\n",
       "1       DaveLee Full       Camera      0.22\n",
       "2       DaveLee Full      Battery      0.20\n",
       "3       DaveLee Full  Performance      0.00\n",
       "4   Dave Lee Summary      Display      0.14\n",
       "5   Dave Lee Summary       Camera      0.28\n",
       "6   Dave Lee Summary      Battery      0.45\n",
       "7   Dave Lee Summary  Performance      0.00\n",
       "8         MKBHD Full      Display      0.17\n",
       "9         MKBHD Full       Camera      0.21\n",
       "10        MKBHD Full      Battery      0.11\n",
       "11        MKBHD Full  Performance      0.29\n",
       "12     MKBHD Summary      Display      0.17\n",
       "13     MKBHD Summary       Camera      0.30\n",
       "14     MKBHD Summary      Battery      0.13\n",
       "15     MKBHD Summary  Performance      0.25>"
      ]
     },
     "execution_count": 411,
     "metadata": {},
     "output_type": "execute_result"
    }
   ],
   "source": [
    "df.head"
   ]
  },
  {
   "cell_type": "code",
   "execution_count": 410,
   "metadata": {},
   "outputs": [
    {
     "data": {
      "text/plain": [
       "[(0.0, 0.2)]"
      ]
     },
     "execution_count": 410,
     "metadata": {},
     "output_type": "execute_result"
    },
    {
     "data": {
      "image/png": "[encoded data removed]",
      "text/plain": [
       "<Figure size 1296x792 with 1 Axes>"
      ]
     },
     "metadata": {},
     "output_type": "display_data"
    }
   ],
   "source": [
    "displaydf = df[df['feature']=='Display']\n",
    "ax = sns.barplot(x='name',y='polarity',data=displaydf)# \n",
    "ax.set(ylim=(0, 0.2)) "
   ]
  },
  {
   "cell_type": "code",
   "execution_count": 362,
   "metadata": {},
   "outputs": [],
   "source": [
    "mkbhd_surface = \"Hey what's up mkbhd here, and this is the surface duo screen on in all of its super sweet hinge, well-built ultra thin glory. It'S an amazing piece of hardware, but actually using it, as i have been for the past two to three weeks is a bit of a mixed bag, so i'm just gon na come right off the top and say it. I don't think most people should buy this and that's fine. I think, there's a lot of pretty cool devices out there that just aren't right for most people to buy and use. That'S all right, but now that you know that right off the top of the review, i want to approach this a little bit of a different way, a little more conceptual and just highlight the good, the bad and the ugly which actually for for surface duo. I'M gon na adjust a little it'll, be the good, the meh and the bad, because there are some really good pieces and some really good ideas. Then there's some meh stuff that didn't really quite work out and then there's some really bad too. But the most interesting thing is almost all of this comes from it being a first generation device. This is the first surface duo. It'S the first foldable phone from microsoft. It'S the first android phone from microsoft. It'S the first dual screen pocketable device with no cover screen. Like this, the first razer thin phone with a 360 degree hinge and two five-inch displays like this. So it's the first at a lot of things. But the thing is it's, the second generation of most things, that's the most interesting, or at least the most telling like that's when you get to see all of the learnings about what went well and what didn't go well and what they can change versus what they Can'T that's what's exciting. I am literally already looking forward to surface duo 2 like a lot, but let me just show you what went well and what didn't with this one, [ Applause ]! So what's the good? Well, if you remember the the first impressions video, where nobody was allowed to turn it on uh, i was raving about that hardware and that hinge - and i am sticking by that - the crazy thinness is obviously the first thing that strikes you. It'S barely thicker than a usb-c port on each side and then the 360-degree hinge. It'S awesome. It has this smoothness, but also a firmness to it where it can stop in any position. That'S just awesome so props to the hinge engineers and the result is all these postures, these different modes that you can hold or prop up the device. There'S book mode horizontal with you know, one screen on each side kind of like a book like this. There is compose mode so keyboard on one screen: content on the other single screen mode, thanks to the hinge flip, it all the way around 360 degrees pick a screen, there's also tent mode and peak mode and right as you get into all these postures, things do Get pretty complex because now the device is responding to a variety of orientation, changes and state of fold changes and we'll get more into the bugs, of course later in this video, but when it works well, it's really cool. It'S really nice. You can open up an app on one screen and literally do anything you want on the other screen. You can read two things at once. You can watch a video on one screen and take notes on it. On the other screen. You can move the video to the other side and move the notes back to the other side. You can just mess around you. Can you can close something and multitask while the video keeps going, you can always switch? What screen something is on or even drag to. The middle and span it between two screens now not every app, looks good spanned across both screens matter of fact, most don't like right now, it's up to developers to get in and update their apps and take advantage of this multitasking experience, which may not happen very Quickly, depending on how popular this is, but if you look at microsoft, suite of apps, the 365 suite outlook is a really good example where you span it across and you get email on one side and you can. You can use your calendar and view single events on one side and the calendar on the other, it's great so for me and surface duo, i found i tend to start by opening it up in book mode and then i slowly get into whatever i'm doing, which Is usually just on one side and then it's kind of awkward having the other side just kind of staring at me with nothing happening, wasting power, so i often switch over to single screen mode and use it like that and that's cool. It keeps the volume rocker and the power button on the right hand, side it's not bad. Basically, it's just a little wider than normal for typing, which i will again get to in a bit, but hey, there's always compose mode for when i need to do some really extended typing, like crafting a beautiful tweet with no typos or you know, writing an email Really the best example of this and microsoft knows: multitasking is a huge upside for surface duo, but samsung. Does it too on the fold? Is the app pairs, so they call them app groups and you can launch two apps at the same time, two different apps and you can come up with all sorts of sweet, combos and great ideas for how to use these. All you got ta do to make one of your own is pick an app hold. It down. Select app group pick the second app to pair them together then pick which screen you want each one to be on then create it, and just like that, i'm feeling, like an absolute productivity machine, pulling out the surface duo, flipping it open, launching a calendar in the Email at the same time - and yes, that's easily my most common app group - it's just so good - it makes so much sense with the dual screens, typically when you're multitasking on a phone. If you even do this at all you're like dragging two different windows, around sort of abstractly and even on the fold, you can do three at once, but how many people are really doing that with this? It'S just kind of staring you in the face like you have to you have to multitask. So that's what it does well really. Well, that's the core of what makes it a surface. So now, let's get into this stuff that is uh meh, so the bezels, a lot of people out here are really not feeling it. I definitely wish they were thinner, but you also have to realize the side. Bezels uh are actually a measure against accidental touches. That'S about as thin as you could get them without starting to touch the screen all the time, but i just think the top and bottom bezels are a little thick, then pocketability. So, okay, it is two 5.6 inch displays, but, as you can tell they're very wide for if it was a normal 5.6 inch phone plus those bezels, so the whole thing is shaped like a passport that you might be more likely to put in a back pocket. So for me it does stick out a bit in the front pocket i've kind of gotten used to it uh. But at this point, there's there's some big phones out there and this one sticks out, above all the rest as a little bit tough on smaller pockets. Maybe a little bit narrower would have been more palatable and then typing overall yeah. It'S it's all right, like it's a it's a mixed bag like i said so, the compose mode where you're just typing on the bottom screen, and you have whatever content on the top screen. That'S fine and microsoft. They partnered with swiftkey on this keyboard for android. That sort of smartly adapts to whatever posture you're in and shifts the keyboard accordingly. So if you're in book mode, you can't really type with one hand all over that one side screen. So if you need to it shifts the keyboard over and on one side, you can reach all the keys. It'S still way slower than two thumb typing, but it's better than nothing. The only bummer here is uh. Other third party keyboards - don't have this optimization yet so my keyboard of choice is g board and it just looks silly trying to span across the whole thing. So typing was hit or miss got ta, use, swiftkey and then performance. It'S you know, look we knew it wasn't gon na be the best performer. It was in development for a whole year, so it has last year's specs, snapdragon 855 and six gigs of ram it's not going to benchmark the highest. We knew that, but i think just using it, you start to see performance issues and i think my biggest performance issue here was just overall fluidity at 60, hertz and sure that's partially, because i am coming from other smooth high refresh rate flagships, including the new galaxy Fold actually, but i'm also just noticing a ton of little hiccups and lags while just moving around and multitasking. I think this device, that's geared specifically for multitaskers, could have hit us with a little bit more than six gigs of ram like. If it was me, i would have wanted like 12 gigs of ram in this guy, but yeah if you're used to flagship performance or any other high-end performance from an expensive phone, you kind of get it here, but overall meh and then battery life is also. You know kind of middle of the road better than i thought it would be. Actually so standby time is pretty good. It'S a 3600 milliamp hour battery, so i find when i'm opening it and using it like two screen multitasking. I can start to bleed through battery pretty fast and i can kill it in a day now, when i'm switching to one screen mode, which i did more often than not, which by the way is kind of rough with some car gps's like if you try to Put it in your dashboard, it's kind of silly, but either way when i'm using it one screen, i'm not drawing power from the back screen as much so i'm actually getting better battery life. When i do that and right now, i'm at half battery at 1 30 pm it's acceptable. But again you know you don't have wireless charging. You only have 18 watt fast charging, so overall the battery meh, but then we get to the bad like the stuff that it's truly terrible at, and i don't throw that word around very often. But it's when you get this first gen stuff, sometimes you're just gon na not have things go well right and so i'll even try to explore a little bit. Why i think some of these things went so bad. So, first of all the speaker, the speaker is absolute trash and i think it's pretty simple, there's just not enough room in here for some great speakers like it's a thin body, they're, not really top or bottom mounted, like you might expect to find them. It'S uh. Just at the top here in the earpiece and the slot up there, that's it so at absolute maximum volume, it sounds like a normal smartphone speaker at 50 volume and inside a tin can like it's pretty brutal, not enough room for a good speaker here and then The camera, so the camera is in fact terrible. The quality is trash and we kind of knew it would be already because it's like the opposite of what the zenfone is doing so on the zenfone 7, the huge main camera swivels around and becomes like basically the world's best selfie camera. On the surface duo you swivel around the selfie camera and it becomes possibly the worst main camera you can have at least the worst i've seen in a 1400 phone anyway - and you know, microsoft does call it an adaptive 11 megapixel camera. So it can tell when it's taking a selfie and optimized for faces versus when it's taking a regular photo but yeah all the optimization in the world isn't going to save this you're not going to make a webcam feel like a big optically stabilized sensor. It'S just not going to take good photos, but look it's not just the quality of the photos, this bad. It'S also just the ergonomics of taking a photo there's, no back camera like we've established so every time i want to take a photo of something in front of me. I have to do this flip it around unlock it open the camera app and then it's going to be in selfie mode. So now i have to try to swivel it around and get it to flip and by the time, i'm doing all this half the time. The shot is gone or i don't even feel like taking a photo anymore. So it felt like it actively discouraged me from taking photos and videos and really the worst bug is trying to get it to switch to the front viewfinder you're supposed to be able to double tap, to get it to switch. But it still stays in that selfie mode so often and pretty much anywhere else in the ui. You can force it to switch screens at any time by double tapping the off screen and it usually works great. But i guess in the camera, it's not listening to the double tap and the accelerometer is difficult to get it to switch it's rough and then there's a there's, a flash up there in the in the top bezel. Just to what. Why is there a flash? Is anyone really using this for nighttime photography but look microsoft? They know their audience right. This is the same company that has the the biggest most advertised feature of their new ear. Pods is the ability to swipe through powerpoint, slides, like the surface duo? Buyer doesn't really take a ton of photos and videos and stuff it's not a big deal. This will be fine for the occasional video chat. You know scanning documents, maybe a selfie once in a while, but i think the point is just leaving it at that is sacrificing what most people would want, which is like a a nice set of cameras on the back for what they've already decided they want, which Is a nice thin device with a 360 hinge that folds flat and i think that's gon na hold it back. I mean don't get me wrong. I still raved about how thin it was in the hardware and how much i love it, and i like that. I could get creative and prop it up in tent mode and get videos of myself without needing anyone's help, even though the videos were garbagio quality that was kind of cool. But the theme that i'm getting at here is overall practicality suffering at the expense of folding. It in half is the thing that's holding back all: first generation, folding phones, it's the challenge for all of them, and it's definitely happening here with surface duo. This phone has no wireless charging, no ip rating, no real ecosystem around it very little app support out of the gate and even a lot of the little things you might hope for in a phone of this price, no 5g, no headphone jack, no high refresh rate. No super fast wireless charging, not great haptics. You know. Practicality is clearly suffering to achieve this form factor, but in future generations, when this actually improves and they're able to add back those things. That'S when foldables will actually have a convincing future when it's not like you're, sacrificing and sacrificing, but you happen to get it to fold now when the fold is just another feature, that'll be a sweet future. That'S the day! That'S that's what i'm looking forward to. So you know you do file this first, one in do not buy but keep an eye on it, because i really think they're on to something i like the dual screen thing. It'S the same reason i sit in front of dual screen monitors at my desk. Instead of an ultrawide, it's because the productivity, the staying in your flow, the compartmentalization of having two screens, it works, it's real, and so i'm looking forward to the next surface duo and that's the review of the first one thanks for watching catch, you guys the next One peace\""
   ]
  },
  {
   "cell_type": "code",
   "execution_count": 366,
   "metadata": {},
   "outputs": [
    {
     "name": "stdout",
     "output_type": "stream",
     "text": [
      "Mkbhd Surface\n",
      "{'name': 'Mkbhd Surface', 'feature': 'Display', 'polarity': 0.1273460591133005}\n",
      "{'name': 'Mkbhd Surface', 'feature': 'Camera', 'polarity': 0.06765873015873017}\n",
      "{'name': 'Mkbhd Surface', 'feature': 'Battery', 'polarity': -0.06362468671679199}\n",
      "{'name': 'Mkbhd Surface', 'feature': 'Performance', 'polarity': 0.07063131313131314}\n"
     ]
    }
   ],
   "source": [
    "all_data = []\n",
    "listoftext = [mkbhd_surface]\n",
    "namelist = [\"Display\",\"Camera\",\"Battery\",\"Performance\"]\n",
    "reviewers = [\"Mkbhd Surface\"]\n",
    "for idx1,i in enumerate(listoftext):\n",
    "    mydict = {}\n",
    "    print(reviewers[idx1])\n",
    "    mydict['name'] = reviewers[idx1]\n",
    "    doc = nlp(i)\n",
    "    for idx,feature in enumerate(features):\n",
    "        sentence = set()\n",
    "        for things in feature:\n",
    "            #print(things)\n",
    "            for sent_i, sent in enumerate(doc.sents):\n",
    "                for token in sent:\n",
    "                    #print(sent_i)\n",
    "                    if(token.pos_ == 'NOUN'):\n",
    "                        if(token.text==things):\n",
    "                            sentence.add(sent.text)\n",
    "        \n",
    "        pol_cal = ''.join(list(str(sentence)))\n",
    "        mydict['feature'] = namelist[idx]\n",
    "        mydict['polarity'] = TextBlob(pol_cal).sentiment.polarity\n",
    "        #all_data.append(mydict)\n",
    "        print(mydict)\n",
    "        #print(namelist[idx],TextBlob(pol_cal).sentiment.polarity)"
   ]
  },
  {
   "cell_type": "code",
   "execution_count": 382,
   "metadata": {},
   "outputs": [],
   "source": [
    "d = [{'name': 'Mkbhd Surface', 'feature': 'Display', 'polarity': 0.1273460591133005},\n",
    "{'name': 'Mkbhd Surface', 'feature': 'Camera', 'polarity': 0.06765873015873017},\n",
    "{'name': 'Mkbhd Surface', 'feature': 'Battery', 'polarity': -0.06362468671679199},\n",
    "{'name': 'Mkbhd Surface', 'feature': 'Performance', 'polarity': 0.07063131313131314}]\n",
    "df = pd.DataFrame(d)"
   ]
  },
  {
   "cell_type": "code",
   "execution_count": 397,
   "metadata": {},
   "outputs": [
    {
     "data": {
      "text/plain": [
       "[(-0.1, 0.15)]"
      ]
     },
     "execution_count": 397,
     "metadata": {},
     "output_type": "execute_result"
    },
    {
     "data": {
      "image/png": "[encoded data removed]",
      "text/plain": [
       "<Figure size 432x288 with 1 Axes>"
      ]
     },
     "metadata": {
      "needs_background": "light"
     },
     "output_type": "display_data"
    }
   ],
   "source": [
    "#displaydf = df[df['feature']=='']\n",
    "ax = sns.barplot(x='feature',y='polarity',data=)# \n",
    "ax.set(ylim=(-0.1, 0.15))"
   ]
  },
  {
   "cell_type": "code",
   "execution_count": null,
   "metadata": {},
   "outputs": [],
   "source": []
  }
 ],
 "metadata": {
  "kernelspec": {
   "display_name": "Python 3",
   "language": "python",
   "name": "python3"
  },
  "language_info": {
   "codemirror_mode": {
    "name": "ipython",
    "version": 3
   },
   "file_extension": ".py",
   "mimetype": "text/x-python",
   "name": "python",
   "nbconvert_exporter": "python",
   "pygments_lexer": "ipython3",
   "version": "3.7.3"
  }
 },
 "nbformat": 4,
 "nbformat_minor": 4
}
