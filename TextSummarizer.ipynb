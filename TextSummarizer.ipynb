{
  "nbformat": 4,
  "nbformat_minor": 0,
  "metadata": {
    "colab": {
      "name": "TextSummarizer.ipynb",
      "provenance": [],
      "toc_visible": true
    },
    "kernelspec": {
      "name": "python3",
      "display_name": "Python 3"
    },
    "accelerator": "TPU",
    "widgets": {
      "application/vnd.jupyter.widget-state+json": {
        "af8683808a76411780adef31e4b53017": {
          "model_module": "@jupyter-widgets/controls",
          "model_name": "HBoxModel",
          "state": {
            "_view_name": "HBoxView",
            "_dom_classes": [],
            "_model_name": "HBoxModel",
            "_view_module": "@jupyter-widgets/controls",
            "_model_module_version": "1.5.0",
            "_view_count": null,
            "_view_module_version": "1.5.0",
            "box_style": "",
            "layout": "IPY_MODEL_d8a5e594746a41da83e7b4519b1751af",
            "_model_module": "@jupyter-widgets/controls",
            "children": [
              "IPY_MODEL_d40a4612370848ef9f7b121e8a293027",
              "IPY_MODEL_aefd95f92c0b48968c6ac5aceb961ec0"
            ]
          }
        },
        "d8a5e594746a41da83e7b4519b1751af": {
          "model_module": "@jupyter-widgets/base",
          "model_name": "LayoutModel",
          "state": {
            "_view_name": "LayoutView",
            "grid_template_rows": null,
            "right": null,
            "justify_content": null,
            "_view_module": "@jupyter-widgets/base",
            "overflow": null,
            "_model_module_version": "1.2.0",
            "_view_count": null,
            "flex_flow": null,
            "width": null,
            "min_width": null,
            "border": null,
            "align_items": null,
            "bottom": null,
            "_model_module": "@jupyter-widgets/base",
            "top": null,
            "grid_column": null,
            "overflow_y": null,
            "overflow_x": null,
            "grid_auto_flow": null,
            "grid_area": null,
            "grid_template_columns": null,
            "flex": null,
            "_model_name": "LayoutModel",
            "justify_items": null,
            "grid_row": null,
            "max_height": null,
            "align_content": null,
            "visibility": null,
            "align_self": null,
            "height": null,
            "min_height": null,
            "padding": null,
            "grid_auto_rows": null,
            "grid_gap": null,
            "max_width": null,
            "order": null,
            "_view_module_version": "1.2.0",
            "grid_template_areas": null,
            "object_position": null,
            "object_fit": null,
            "grid_auto_columns": null,
            "margin": null,
            "display": null,
            "left": null
          }
        },
        "d40a4612370848ef9f7b121e8a293027": {
          "model_module": "@jupyter-widgets/controls",
          "model_name": "FloatProgressModel",
          "state": {
            "_view_name": "ProgressView",
            "style": "IPY_MODEL_a6f176987273473dacf4ae410ee5f481",
            "_dom_classes": [],
            "description": "Downloading: 100%",
            "_model_name": "FloatProgressModel",
            "bar_style": "success",
            "max": 434,
            "_view_module": "@jupyter-widgets/controls",
            "_model_module_version": "1.5.0",
            "value": 434,
            "_view_count": null,
            "_view_module_version": "1.5.0",
            "orientation": "horizontal",
            "min": 0,
            "description_tooltip": null,
            "_model_module": "@jupyter-widgets/controls",
            "layout": "IPY_MODEL_9541ddf6416a414e9936598df8c4c1c2"
          }
        },
        "aefd95f92c0b48968c6ac5aceb961ec0": {
          "model_module": "@jupyter-widgets/controls",
          "model_name": "HTMLModel",
          "state": {
            "_view_name": "HTMLView",
            "style": "IPY_MODEL_3e0664255f144f1fae484a3027a287e3",
            "_dom_classes": [],
            "description": "",
            "_model_name": "HTMLModel",
            "placeholder": "​",
            "_view_module": "@jupyter-widgets/controls",
            "_model_module_version": "1.5.0",
            "value": " 434/434 [00:00&lt;00:00, 9.20kB/s]",
            "_view_count": null,
            "_view_module_version": "1.5.0",
            "description_tooltip": null,
            "_model_module": "@jupyter-widgets/controls",
            "layout": "IPY_MODEL_70652b2b8d7c429b8002dea6d23e4469"
          }
        },
        "a6f176987273473dacf4ae410ee5f481": {
          "model_module": "@jupyter-widgets/controls",
          "model_name": "ProgressStyleModel",
          "state": {
            "_view_name": "StyleView",
            "_model_name": "ProgressStyleModel",
            "description_width": "initial",
            "_view_module": "@jupyter-widgets/base",
            "_model_module_version": "1.5.0",
            "_view_count": null,
            "_view_module_version": "1.2.0",
            "bar_color": null,
            "_model_module": "@jupyter-widgets/controls"
          }
        },
        "9541ddf6416a414e9936598df8c4c1c2": {
          "model_module": "@jupyter-widgets/base",
          "model_name": "LayoutModel",
          "state": {
            "_view_name": "LayoutView",
            "grid_template_rows": null,
            "right": null,
            "justify_content": null,
            "_view_module": "@jupyter-widgets/base",
            "overflow": null,
            "_model_module_version": "1.2.0",
            "_view_count": null,
            "flex_flow": null,
            "width": null,
            "min_width": null,
            "border": null,
            "align_items": null,
            "bottom": null,
            "_model_module": "@jupyter-widgets/base",
            "top": null,
            "grid_column": null,
            "overflow_y": null,
            "overflow_x": null,
            "grid_auto_flow": null,
            "grid_area": null,
            "grid_template_columns": null,
            "flex": null,
            "_model_name": "LayoutModel",
            "justify_items": null,
            "grid_row": null,
            "max_height": null,
            "align_content": null,
            "visibility": null,
            "align_self": null,
            "height": null,
            "min_height": null,
            "padding": null,
            "grid_auto_rows": null,
            "grid_gap": null,
            "max_width": null,
            "order": null,
            "_view_module_version": "1.2.0",
            "grid_template_areas": null,
            "object_position": null,
            "object_fit": null,
            "grid_auto_columns": null,
            "margin": null,
            "display": null,
            "left": null
          }
        },
        "3e0664255f144f1fae484a3027a287e3": {
          "model_module": "@jupyter-widgets/controls",
          "model_name": "DescriptionStyleModel",
          "state": {
            "_view_name": "StyleView",
            "_model_name": "DescriptionStyleModel",
            "description_width": "",
            "_view_module": "@jupyter-widgets/base",
            "_model_module_version": "1.5.0",
            "_view_count": null,
            "_view_module_version": "1.2.0",
            "_model_module": "@jupyter-widgets/controls"
          }
        },
        "70652b2b8d7c429b8002dea6d23e4469": {
          "model_module": "@jupyter-widgets/base",
          "model_name": "LayoutModel",
          "state": {
            "_view_name": "LayoutView",
            "grid_template_rows": null,
            "right": null,
            "justify_content": null,
            "_view_module": "@jupyter-widgets/base",
            "overflow": null,
            "_model_module_version": "1.2.0",
            "_view_count": null,
            "flex_flow": null,
            "width": null,
            "min_width": null,
            "border": null,
            "align_items": null,
            "bottom": null,
            "_model_module": "@jupyter-widgets/base",
            "top": null,
            "grid_column": null,
            "overflow_y": null,
            "overflow_x": null,
            "grid_auto_flow": null,
            "grid_area": null,
            "grid_template_columns": null,
            "flex": null,
            "_model_name": "LayoutModel",
            "justify_items": null,
            "grid_row": null,
            "max_height": null,
            "align_content": null,
            "visibility": null,
            "align_self": null,
            "height": null,
            "min_height": null,
            "padding": null,
            "grid_auto_rows": null,
            "grid_gap": null,
            "max_width": null,
            "order": null,
            "_view_module_version": "1.2.0",
            "grid_template_areas": null,
            "object_position": null,
            "object_fit": null,
            "grid_auto_columns": null,
            "margin": null,
            "display": null,
            "left": null
          }
        },
        "2209f531f4d0417d8b86e6f7b3972e11": {
          "model_module": "@jupyter-widgets/controls",
          "model_name": "HBoxModel",
          "state": {
            "_view_name": "HBoxView",
            "_dom_classes": [],
            "_model_name": "HBoxModel",
            "_view_module": "@jupyter-widgets/controls",
            "_model_module_version": "1.5.0",
            "_view_count": null,
            "_view_module_version": "1.5.0",
            "box_style": "",
            "layout": "IPY_MODEL_d857f040469c4d709d5419935a217a90",
            "_model_module": "@jupyter-widgets/controls",
            "children": [
              "IPY_MODEL_983bc3d309df4db28d1769cb120a723e",
              "IPY_MODEL_70fac25a70ff4953b4dea783f2bad6e0"
            ]
          }
        },
        "d857f040469c4d709d5419935a217a90": {
          "model_module": "@jupyter-widgets/base",
          "model_name": "LayoutModel",
          "state": {
            "_view_name": "LayoutView",
            "grid_template_rows": null,
            "right": null,
            "justify_content": null,
            "_view_module": "@jupyter-widgets/base",
            "overflow": null,
            "_model_module_version": "1.2.0",
            "_view_count": null,
            "flex_flow": null,
            "width": null,
            "min_width": null,
            "border": null,
            "align_items": null,
            "bottom": null,
            "_model_module": "@jupyter-widgets/base",
            "top": null,
            "grid_column": null,
            "overflow_y": null,
            "overflow_x": null,
            "grid_auto_flow": null,
            "grid_area": null,
            "grid_template_columns": null,
            "flex": null,
            "_model_name": "LayoutModel",
            "justify_items": null,
            "grid_row": null,
            "max_height": null,
            "align_content": null,
            "visibility": null,
            "align_self": null,
            "height": null,
            "min_height": null,
            "padding": null,
            "grid_auto_rows": null,
            "grid_gap": null,
            "max_width": null,
            "order": null,
            "_view_module_version": "1.2.0",
            "grid_template_areas": null,
            "object_position": null,
            "object_fit": null,
            "grid_auto_columns": null,
            "margin": null,
            "display": null,
            "left": null
          }
        },
        "983bc3d309df4db28d1769cb120a723e": {
          "model_module": "@jupyter-widgets/controls",
          "model_name": "FloatProgressModel",
          "state": {
            "_view_name": "ProgressView",
            "style": "IPY_MODEL_ec5344cb469840aab0130e3b67bd68eb",
            "_dom_classes": [],
            "description": "Downloading: 100%",
            "_model_name": "FloatProgressModel",
            "bar_style": "success",
            "max": 1344997306,
            "_view_module": "@jupyter-widgets/controls",
            "_model_module_version": "1.5.0",
            "value": 1344997306,
            "_view_count": null,
            "_view_module_version": "1.5.0",
            "orientation": "horizontal",
            "min": 0,
            "description_tooltip": null,
            "_model_module": "@jupyter-widgets/controls",
            "layout": "IPY_MODEL_32936bcc77ae4e73878ed370a6db7980"
          }
        },
        "70fac25a70ff4953b4dea783f2bad6e0": {
          "model_module": "@jupyter-widgets/controls",
          "model_name": "HTMLModel",
          "state": {
            "_view_name": "HTMLView",
            "style": "IPY_MODEL_72f5ead1606c46fcb24cfe429b79dd02",
            "_dom_classes": [],
            "description": "",
            "_model_name": "HTMLModel",
            "placeholder": "​",
            "_view_module": "@jupyter-widgets/controls",
            "_model_module_version": "1.5.0",
            "value": " 1.34G/1.34G [00:39&lt;00:00, 34.3MB/s]",
            "_view_count": null,
            "_view_module_version": "1.5.0",
            "description_tooltip": null,
            "_model_module": "@jupyter-widgets/controls",
            "layout": "IPY_MODEL_c9e57f56197b4668b6df7a29599ffeef"
          }
        },
        "ec5344cb469840aab0130e3b67bd68eb": {
          "model_module": "@jupyter-widgets/controls",
          "model_name": "ProgressStyleModel",
          "state": {
            "_view_name": "StyleView",
            "_model_name": "ProgressStyleModel",
            "description_width": "initial",
            "_view_module": "@jupyter-widgets/base",
            "_model_module_version": "1.5.0",
            "_view_count": null,
            "_view_module_version": "1.2.0",
            "bar_color": null,
            "_model_module": "@jupyter-widgets/controls"
          }
        },
        "32936bcc77ae4e73878ed370a6db7980": {
          "model_module": "@jupyter-widgets/base",
          "model_name": "LayoutModel",
          "state": {
            "_view_name": "LayoutView",
            "grid_template_rows": null,
            "right": null,
            "justify_content": null,
            "_view_module": "@jupyter-widgets/base",
            "overflow": null,
            "_model_module_version": "1.2.0",
            "_view_count": null,
            "flex_flow": null,
            "width": null,
            "min_width": null,
            "border": null,
            "align_items": null,
            "bottom": null,
            "_model_module": "@jupyter-widgets/base",
            "top": null,
            "grid_column": null,
            "overflow_y": null,
            "overflow_x": null,
            "grid_auto_flow": null,
            "grid_area": null,
            "grid_template_columns": null,
            "flex": null,
            "_model_name": "LayoutModel",
            "justify_items": null,
            "grid_row": null,
            "max_height": null,
            "align_content": null,
            "visibility": null,
            "align_self": null,
            "height": null,
            "min_height": null,
            "padding": null,
            "grid_auto_rows": null,
            "grid_gap": null,
            "max_width": null,
            "order": null,
            "_view_module_version": "1.2.0",
            "grid_template_areas": null,
            "object_position": null,
            "object_fit": null,
            "grid_auto_columns": null,
            "margin": null,
            "display": null,
            "left": null
          }
        },
        "72f5ead1606c46fcb24cfe429b79dd02": {
          "model_module": "@jupyter-widgets/controls",
          "model_name": "DescriptionStyleModel",
          "state": {
            "_view_name": "StyleView",
            "_model_name": "DescriptionStyleModel",
            "description_width": "",
            "_view_module": "@jupyter-widgets/base",
            "_model_module_version": "1.5.0",
            "_view_count": null,
            "_view_module_version": "1.2.0",
            "_model_module": "@jupyter-widgets/controls"
          }
        },
        "c9e57f56197b4668b6df7a29599ffeef": {
          "model_module": "@jupyter-widgets/base",
          "model_name": "LayoutModel",
          "state": {
            "_view_name": "LayoutView",
            "grid_template_rows": null,
            "right": null,
            "justify_content": null,
            "_view_module": "@jupyter-widgets/base",
            "overflow": null,
            "_model_module_version": "1.2.0",
            "_view_count": null,
            "flex_flow": null,
            "width": null,
            "min_width": null,
            "border": null,
            "align_items": null,
            "bottom": null,
            "_model_module": "@jupyter-widgets/base",
            "top": null,
            "grid_column": null,
            "overflow_y": null,
            "overflow_x": null,
            "grid_auto_flow": null,
            "grid_area": null,
            "grid_template_columns": null,
            "flex": null,
            "_model_name": "LayoutModel",
            "justify_items": null,
            "grid_row": null,
            "max_height": null,
            "align_content": null,
            "visibility": null,
            "align_self": null,
            "height": null,
            "min_height": null,
            "padding": null,
            "grid_auto_rows": null,
            "grid_gap": null,
            "max_width": null,
            "order": null,
            "_view_module_version": "1.2.0",
            "grid_template_areas": null,
            "object_position": null,
            "object_fit": null,
            "grid_auto_columns": null,
            "margin": null,
            "display": null,
            "left": null
          }
        },
        "50a4c098e108474585cdb0c12e741a18": {
          "model_module": "@jupyter-widgets/controls",
          "model_name": "HBoxModel",
          "state": {
            "_view_name": "HBoxView",
            "_dom_classes": [],
            "_model_name": "HBoxModel",
            "_view_module": "@jupyter-widgets/controls",
            "_model_module_version": "1.5.0",
            "_view_count": null,
            "_view_module_version": "1.5.0",
            "box_style": "",
            "layout": "IPY_MODEL_bf285c8238934486a538e1330677fb9f",
            "_model_module": "@jupyter-widgets/controls",
            "children": [
              "IPY_MODEL_a9ffac949c0445f5b9932236c0fcea66",
              "IPY_MODEL_e8d7c09aa3b4426fbaa800281dc842ed"
            ]
          }
        },
        "bf285c8238934486a538e1330677fb9f": {
          "model_module": "@jupyter-widgets/base",
          "model_name": "LayoutModel",
          "state": {
            "_view_name": "LayoutView",
            "grid_template_rows": null,
            "right": null,
            "justify_content": null,
            "_view_module": "@jupyter-widgets/base",
            "overflow": null,
            "_model_module_version": "1.2.0",
            "_view_count": null,
            "flex_flow": null,
            "width": null,
            "min_width": null,
            "border": null,
            "align_items": null,
            "bottom": null,
            "_model_module": "@jupyter-widgets/base",
            "top": null,
            "grid_column": null,
            "overflow_y": null,
            "overflow_x": null,
            "grid_auto_flow": null,
            "grid_area": null,
            "grid_template_columns": null,
            "flex": null,
            "_model_name": "LayoutModel",
            "justify_items": null,
            "grid_row": null,
            "max_height": null,
            "align_content": null,
            "visibility": null,
            "align_self": null,
            "height": null,
            "min_height": null,
            "padding": null,
            "grid_auto_rows": null,
            "grid_gap": null,
            "max_width": null,
            "order": null,
            "_view_module_version": "1.2.0",
            "grid_template_areas": null,
            "object_position": null,
            "object_fit": null,
            "grid_auto_columns": null,
            "margin": null,
            "display": null,
            "left": null
          }
        },
        "a9ffac949c0445f5b9932236c0fcea66": {
          "model_module": "@jupyter-widgets/controls",
          "model_name": "FloatProgressModel",
          "state": {
            "_view_name": "ProgressView",
            "style": "IPY_MODEL_2a5e654d91554b628fde72c6d30cc4be",
            "_dom_classes": [],
            "description": "Downloading: 100%",
            "_model_name": "FloatProgressModel",
            "bar_style": "success",
            "max": 231508,
            "_view_module": "@jupyter-widgets/controls",
            "_model_module_version": "1.5.0",
            "value": 231508,
            "_view_count": null,
            "_view_module_version": "1.5.0",
            "orientation": "horizontal",
            "min": 0,
            "description_tooltip": null,
            "_model_module": "@jupyter-widgets/controls",
            "layout": "IPY_MODEL_5b6c8a13019f493684a483a14a4707ad"
          }
        },
        "e8d7c09aa3b4426fbaa800281dc842ed": {
          "model_module": "@jupyter-widgets/controls",
          "model_name": "HTMLModel",
          "state": {
            "_view_name": "HTMLView",
            "style": "IPY_MODEL_1ae74bc827ad490d98e08576c1e4ab9e",
            "_dom_classes": [],
            "description": "",
            "_model_name": "HTMLModel",
            "placeholder": "​",
            "_view_module": "@jupyter-widgets/controls",
            "_model_module_version": "1.5.0",
            "value": " 232k/232k [00:00&lt;00:00, 1.52MB/s]",
            "_view_count": null,
            "_view_module_version": "1.5.0",
            "description_tooltip": null,
            "_model_module": "@jupyter-widgets/controls",
            "layout": "IPY_MODEL_e6ad553486e249bb93e6c3c1669b3c4d"
          }
        },
        "2a5e654d91554b628fde72c6d30cc4be": {
          "model_module": "@jupyter-widgets/controls",
          "model_name": "ProgressStyleModel",
          "state": {
            "_view_name": "StyleView",
            "_model_name": "ProgressStyleModel",
            "description_width": "initial",
            "_view_module": "@jupyter-widgets/base",
            "_model_module_version": "1.5.0",
            "_view_count": null,
            "_view_module_version": "1.2.0",
            "bar_color": null,
            "_model_module": "@jupyter-widgets/controls"
          }
        },
        "5b6c8a13019f493684a483a14a4707ad": {
          "model_module": "@jupyter-widgets/base",
          "model_name": "LayoutModel",
          "state": {
            "_view_name": "LayoutView",
            "grid_template_rows": null,
            "right": null,
            "justify_content": null,
            "_view_module": "@jupyter-widgets/base",
            "overflow": null,
            "_model_module_version": "1.2.0",
            "_view_count": null,
            "flex_flow": null,
            "width": null,
            "min_width": null,
            "border": null,
            "align_items": null,
            "bottom": null,
            "_model_module": "@jupyter-widgets/base",
            "top": null,
            "grid_column": null,
            "overflow_y": null,
            "overflow_x": null,
            "grid_auto_flow": null,
            "grid_area": null,
            "grid_template_columns": null,
            "flex": null,
            "_model_name": "LayoutModel",
            "justify_items": null,
            "grid_row": null,
            "max_height": null,
            "align_content": null,
            "visibility": null,
            "align_self": null,
            "height": null,
            "min_height": null,
            "padding": null,
            "grid_auto_rows": null,
            "grid_gap": null,
            "max_width": null,
            "order": null,
            "_view_module_version": "1.2.0",
            "grid_template_areas": null,
            "object_position": null,
            "object_fit": null,
            "grid_auto_columns": null,
            "margin": null,
            "display": null,
            "left": null
          }
        },
        "1ae74bc827ad490d98e08576c1e4ab9e": {
          "model_module": "@jupyter-widgets/controls",
          "model_name": "DescriptionStyleModel",
          "state": {
            "_view_name": "StyleView",
            "_model_name": "DescriptionStyleModel",
            "description_width": "",
            "_view_module": "@jupyter-widgets/base",
            "_model_module_version": "1.5.0",
            "_view_count": null,
            "_view_module_version": "1.2.0",
            "_model_module": "@jupyter-widgets/controls"
          }
        },
        "e6ad553486e249bb93e6c3c1669b3c4d": {
          "model_module": "@jupyter-widgets/base",
          "model_name": "LayoutModel",
          "state": {
            "_view_name": "LayoutView",
            "grid_template_rows": null,
            "right": null,
            "justify_content": null,
            "_view_module": "@jupyter-widgets/base",
            "overflow": null,
            "_model_module_version": "1.2.0",
            "_view_count": null,
            "flex_flow": null,
            "width": null,
            "min_width": null,
            "border": null,
            "align_items": null,
            "bottom": null,
            "_model_module": "@jupyter-widgets/base",
            "top": null,
            "grid_column": null,
            "overflow_y": null,
            "overflow_x": null,
            "grid_auto_flow": null,
            "grid_area": null,
            "grid_template_columns": null,
            "flex": null,
            "_model_name": "LayoutModel",
            "justify_items": null,
            "grid_row": null,
            "max_height": null,
            "align_content": null,
            "visibility": null,
            "align_self": null,
            "height": null,
            "min_height": null,
            "padding": null,
            "grid_auto_rows": null,
            "grid_gap": null,
            "max_width": null,
            "order": null,
            "_view_module_version": "1.2.0",
            "grid_template_areas": null,
            "object_position": null,
            "object_fit": null,
            "grid_auto_columns": null,
            "margin": null,
            "display": null,
            "left": null
          }
        }
      }
    }
  },
  "cells": [
    {
      "cell_type": "code",
      "metadata": {
        "id": "YCxv_18Xu2Qt",
        "outputId": "b6eadc45-81ea-418e-a8ef-657687f70e46",
        "colab": {
          "base_uri": "https://localhost:8080/"
        }
      },
      "source": [
        "!pip install spacy==2.3.2"
      ],
      "execution_count": null,
      "outputs": [
        {
          "output_type": "stream",
          "text": [
            "Collecting spacy==2.3.2\n",
            "\u001b[?25l  Downloading https://files.pythonhosted.org/packages/10/b5/c7a92c7ce5d4b353b70b4b5b4385687206c8b230ddfe08746ab0fd310a3a/spacy-2.3.2-cp36-cp36m-manylinux1_x86_64.whl (9.9MB)\n",
            "\u001b[K     |████████████████████████████████| 10.0MB 3.4MB/s \n",
            "\u001b[?25hRequirement already satisfied: murmurhash<1.1.0,>=0.28.0 in /usr/local/lib/python3.6/dist-packages (from spacy==2.3.2) (1.0.2)\n",
            "Requirement already satisfied: srsly<1.1.0,>=1.0.2 in /usr/local/lib/python3.6/dist-packages (from spacy==2.3.2) (1.0.2)\n",
            "Requirement already satisfied: catalogue<1.1.0,>=0.0.7 in /usr/local/lib/python3.6/dist-packages (from spacy==2.3.2) (1.0.0)\n",
            "Requirement already satisfied: plac<1.2.0,>=0.9.6 in /usr/local/lib/python3.6/dist-packages (from spacy==2.3.2) (0.9.6)\n",
            "Requirement already satisfied: setuptools in /usr/local/lib/python3.6/dist-packages (from spacy==2.3.2) (50.3.2)\n",
            "Requirement already satisfied: numpy>=1.15.0 in /usr/local/lib/python3.6/dist-packages (from spacy==2.3.2) (1.18.5)\n",
            "Requirement already satisfied: wasabi<1.1.0,>=0.4.0 in /usr/local/lib/python3.6/dist-packages (from spacy==2.3.2) (0.8.0)\n",
            "Requirement already satisfied: requests<3.0.0,>=2.13.0 in /usr/local/lib/python3.6/dist-packages (from spacy==2.3.2) (2.23.0)\n",
            "Requirement already satisfied: tqdm<5.0.0,>=4.38.0 in /usr/local/lib/python3.6/dist-packages (from spacy==2.3.2) (4.41.1)\n",
            "Collecting thinc==7.4.1\n",
            "\u001b[?25l  Downloading https://files.pythonhosted.org/packages/10/ae/ef3ae5e93639c0ef8e3eb32e3c18341e511b3c515fcfc603f4b808087651/thinc-7.4.1-cp36-cp36m-manylinux1_x86_64.whl (2.1MB)\n",
            "\u001b[K     |████████████████████████████████| 2.1MB 40.9MB/s \n",
            "\u001b[?25hCollecting blis<0.5.0,>=0.4.0\n",
            "\u001b[?25l  Downloading https://files.pythonhosted.org/packages/41/19/f95c75562d18eb27219df3a3590b911e78d131b68466ad79fdf5847eaac4/blis-0.4.1-cp36-cp36m-manylinux1_x86_64.whl (3.7MB)\n",
            "\u001b[K     |████████████████████████████████| 3.7MB 40.2MB/s \n",
            "\u001b[?25hRequirement already satisfied: cymem<2.1.0,>=2.0.2 in /usr/local/lib/python3.6/dist-packages (from spacy==2.3.2) (2.0.3)\n",
            "Collecting preshed<3.1.0,>=3.0.2\n",
            "\u001b[?25l  Downloading https://files.pythonhosted.org/packages/db/6b/e07fad36913879757c90ba03d6fb7f406f7279e11dcefc105ee562de63ea/preshed-3.0.2-cp36-cp36m-manylinux1_x86_64.whl (119kB)\n",
            "\u001b[K     |████████████████████████████████| 122kB 43.1MB/s \n",
            "\u001b[?25hRequirement already satisfied: importlib-metadata>=0.20; python_version < \"3.8\" in /usr/local/lib/python3.6/dist-packages (from catalogue<1.1.0,>=0.0.7->spacy==2.3.2) (2.0.0)\n",
            "Requirement already satisfied: certifi>=2017.4.17 in /usr/local/lib/python3.6/dist-packages (from requests<3.0.0,>=2.13.0->spacy==2.3.2) (2020.6.20)\n",
            "Requirement already satisfied: urllib3!=1.25.0,!=1.25.1,<1.26,>=1.21.1 in /usr/local/lib/python3.6/dist-packages (from requests<3.0.0,>=2.13.0->spacy==2.3.2) (1.24.3)\n",
            "Requirement already satisfied: idna<3,>=2.5 in /usr/local/lib/python3.6/dist-packages (from requests<3.0.0,>=2.13.0->spacy==2.3.2) (2.10)\n",
            "Requirement already satisfied: chardet<4,>=3.0.2 in /usr/local/lib/python3.6/dist-packages (from requests<3.0.0,>=2.13.0->spacy==2.3.2) (3.0.4)\n",
            "Requirement already satisfied: zipp>=0.5 in /usr/local/lib/python3.6/dist-packages (from importlib-metadata>=0.20; python_version < \"3.8\"->catalogue<1.1.0,>=0.0.7->spacy==2.3.2) (3.3.1)\n",
            "Installing collected packages: blis, preshed, thinc, spacy\n",
            "  Found existing installation: blis 0.2.4\n",
            "    Uninstalling blis-0.2.4:\n",
            "      Successfully uninstalled blis-0.2.4\n",
            "  Found existing installation: preshed 2.0.1\n",
            "    Uninstalling preshed-2.0.1:\n",
            "      Successfully uninstalled preshed-2.0.1\n",
            "  Found existing installation: thinc 7.0.8\n",
            "    Uninstalling thinc-7.0.8:\n",
            "      Successfully uninstalled thinc-7.0.8\n",
            "  Found existing installation: spacy 2.1.3\n",
            "    Uninstalling spacy-2.1.3:\n",
            "      Successfully uninstalled spacy-2.1.3\n",
            "Successfully installed blis-0.4.1 preshed-3.0.2 spacy-2.3.2 thinc-7.4.1\n"
          ],
          "name": "stdout"
        }
      ]
    },
    {
      "cell_type": "code",
      "metadata": {
        "id": "qNIFanDHvQan",
        "outputId": "442629b3-8f91-422d-a5ec-9226a427130a",
        "colab": {
          "base_uri": "https://localhost:8080/"
        }
      },
      "source": [
        "!pip install transformers==2.2.2"
      ],
      "execution_count": null,
      "outputs": [
        {
          "output_type": "stream",
          "text": [
            "Requirement already satisfied: transformers==2.2.2 in /usr/local/lib/python3.6/dist-packages (2.2.2)\n",
            "Requirement already satisfied: requests in /usr/local/lib/python3.6/dist-packages (from transformers==2.2.2) (2.23.0)\n",
            "Requirement already satisfied: sacremoses in /usr/local/lib/python3.6/dist-packages (from transformers==2.2.2) (0.0.43)\n",
            "Requirement already satisfied: numpy in /usr/local/lib/python3.6/dist-packages (from transformers==2.2.2) (1.18.5)\n",
            "Requirement already satisfied: sentencepiece in /usr/local/lib/python3.6/dist-packages (from transformers==2.2.2) (0.1.94)\n",
            "Requirement already satisfied: regex in /usr/local/lib/python3.6/dist-packages (from transformers==2.2.2) (2019.12.20)\n",
            "Requirement already satisfied: boto3 in /usr/local/lib/python3.6/dist-packages (from transformers==2.2.2) (1.16.9)\n",
            "Requirement already satisfied: tqdm in /usr/local/lib/python3.6/dist-packages (from transformers==2.2.2) (4.41.1)\n",
            "Requirement already satisfied: idna<3,>=2.5 in /usr/local/lib/python3.6/dist-packages (from requests->transformers==2.2.2) (2.10)\n",
            "Requirement already satisfied: chardet<4,>=3.0.2 in /usr/local/lib/python3.6/dist-packages (from requests->transformers==2.2.2) (3.0.4)\n",
            "Requirement already satisfied: urllib3!=1.25.0,!=1.25.1,<1.26,>=1.21.1 in /usr/local/lib/python3.6/dist-packages (from requests->transformers==2.2.2) (1.24.3)\n",
            "Requirement already satisfied: certifi>=2017.4.17 in /usr/local/lib/python3.6/dist-packages (from requests->transformers==2.2.2) (2020.6.20)\n",
            "Requirement already satisfied: six in /usr/local/lib/python3.6/dist-packages (from sacremoses->transformers==2.2.2) (1.15.0)\n",
            "Requirement already satisfied: click in /usr/local/lib/python3.6/dist-packages (from sacremoses->transformers==2.2.2) (7.1.2)\n",
            "Requirement already satisfied: joblib in /usr/local/lib/python3.6/dist-packages (from sacremoses->transformers==2.2.2) (0.17.0)\n",
            "Requirement already satisfied: jmespath<1.0.0,>=0.7.1 in /usr/local/lib/python3.6/dist-packages (from boto3->transformers==2.2.2) (0.10.0)\n",
            "Requirement already satisfied: botocore<1.20.0,>=1.19.9 in /usr/local/lib/python3.6/dist-packages (from boto3->transformers==2.2.2) (1.19.9)\n",
            "Requirement already satisfied: s3transfer<0.4.0,>=0.3.0 in /usr/local/lib/python3.6/dist-packages (from boto3->transformers==2.2.2) (0.3.3)\n",
            "Requirement already satisfied: python-dateutil<3.0.0,>=2.1 in /usr/local/lib/python3.6/dist-packages (from botocore<1.20.0,>=1.19.9->boto3->transformers==2.2.2) (2.8.1)\n"
          ],
          "name": "stdout"
        }
      ]
    },
    {
      "cell_type": "code",
      "metadata": {
        "id": "PnkQpUXqvnZ9",
        "outputId": "8dab6ee6-2d56-4b0e-c733-2323e6e3d855",
        "colab": {
          "base_uri": "https://localhost:8080/"
        }
      },
      "source": [
        "!pip install neuralcoref"
      ],
      "execution_count": null,
      "outputs": [
        {
          "output_type": "stream",
          "text": [
            "Collecting neuralcoref\n",
            "\u001b[?25l  Downloading https://files.pythonhosted.org/packages/ea/24/0ec7845a5b73b637aa691ff4d1b9b48f3a0f3369f4002a59ffd7a7462fdb/neuralcoref-4.0-cp36-cp36m-manylinux1_x86_64.whl (287kB)\n",
            "\r\u001b[K     |█▏                              | 10kB 14.8MB/s eta 0:00:01\r\u001b[K     |██▎                             | 20kB 2.2MB/s eta 0:00:01\r\u001b[K     |███▍                            | 30kB 2.6MB/s eta 0:00:01\r\u001b[K     |████▋                           | 40kB 3.0MB/s eta 0:00:01\r\u001b[K     |█████▊                          | 51kB 2.5MB/s eta 0:00:01\r\u001b[K     |██████▉                         | 61kB 2.8MB/s eta 0:00:01\r\u001b[K     |████████                        | 71kB 3.0MB/s eta 0:00:01\r\u001b[K     |█████████▏                      | 81kB 3.3MB/s eta 0:00:01\r\u001b[K     |██████████▎                     | 92kB 3.5MB/s eta 0:00:01\r\u001b[K     |███████████▍                    | 102kB 3.4MB/s eta 0:00:01\r\u001b[K     |████████████▌                   | 112kB 3.4MB/s eta 0:00:01\r\u001b[K     |█████████████▊                  | 122kB 3.4MB/s eta 0:00:01\r\u001b[K     |██████████████▉                 | 133kB 3.4MB/s eta 0:00:01\r\u001b[K     |████████████████                | 143kB 3.4MB/s eta 0:00:01\r\u001b[K     |█████████████████               | 153kB 3.4MB/s eta 0:00:01\r\u001b[K     |██████████████████▎             | 163kB 3.4MB/s eta 0:00:01\r\u001b[K     |███████████████████▍            | 174kB 3.4MB/s eta 0:00:01\r\u001b[K     |████████████████████▌           | 184kB 3.4MB/s eta 0:00:01\r\u001b[K     |█████████████████████▋          | 194kB 3.4MB/s eta 0:00:01\r\u001b[K     |██████████████████████▉         | 204kB 3.4MB/s eta 0:00:01\r\u001b[K     |████████████████████████        | 215kB 3.4MB/s eta 0:00:01\r\u001b[K     |█████████████████████████       | 225kB 3.4MB/s eta 0:00:01\r\u001b[K     |██████████████████████████▎     | 235kB 3.4MB/s eta 0:00:01\r\u001b[K     |███████████████████████████▍    | 245kB 3.4MB/s eta 0:00:01\r\u001b[K     |████████████████████████████▌   | 256kB 3.4MB/s eta 0:00:01\r\u001b[K     |█████████████████████████████▋  | 266kB 3.4MB/s eta 0:00:01\r\u001b[K     |██████████████████████████████▉ | 276kB 3.4MB/s eta 0:00:01\r\u001b[K     |████████████████████████████████| 286kB 3.4MB/s eta 0:00:01\r\u001b[K     |████████████████████████████████| 296kB 3.4MB/s \n",
            "\u001b[?25hRequirement already satisfied: requests<3.0.0,>=2.13.0 in /usr/local/lib/python3.6/dist-packages (from neuralcoref) (2.23.0)\n",
            "Requirement already satisfied: spacy>=2.1.0 in /usr/local/lib/python3.6/dist-packages (from neuralcoref) (2.3.2)\n",
            "Requirement already satisfied: boto3 in /usr/local/lib/python3.6/dist-packages (from neuralcoref) (1.16.9)\n",
            "Requirement already satisfied: numpy>=1.15.0 in /usr/local/lib/python3.6/dist-packages (from neuralcoref) (1.18.5)\n",
            "Requirement already satisfied: chardet<4,>=3.0.2 in /usr/local/lib/python3.6/dist-packages (from requests<3.0.0,>=2.13.0->neuralcoref) (3.0.4)\n",
            "Requirement already satisfied: certifi>=2017.4.17 in /usr/local/lib/python3.6/dist-packages (from requests<3.0.0,>=2.13.0->neuralcoref) (2020.6.20)\n",
            "Requirement already satisfied: idna<3,>=2.5 in /usr/local/lib/python3.6/dist-packages (from requests<3.0.0,>=2.13.0->neuralcoref) (2.10)\n",
            "Requirement already satisfied: urllib3!=1.25.0,!=1.25.1,<1.26,>=1.21.1 in /usr/local/lib/python3.6/dist-packages (from requests<3.0.0,>=2.13.0->neuralcoref) (1.24.3)\n",
            "Requirement already satisfied: setuptools in /usr/local/lib/python3.6/dist-packages (from spacy>=2.1.0->neuralcoref) (50.3.2)\n",
            "Requirement already satisfied: plac<1.2.0,>=0.9.6 in /usr/local/lib/python3.6/dist-packages (from spacy>=2.1.0->neuralcoref) (0.9.6)\n",
            "Requirement already satisfied: tqdm<5.0.0,>=4.38.0 in /usr/local/lib/python3.6/dist-packages (from spacy>=2.1.0->neuralcoref) (4.41.1)\n",
            "Requirement already satisfied: wasabi<1.1.0,>=0.4.0 in /usr/local/lib/python3.6/dist-packages (from spacy>=2.1.0->neuralcoref) (0.8.0)\n",
            "Requirement already satisfied: srsly<1.1.0,>=1.0.2 in /usr/local/lib/python3.6/dist-packages (from spacy>=2.1.0->neuralcoref) (1.0.2)\n",
            "Requirement already satisfied: thinc==7.4.1 in /usr/local/lib/python3.6/dist-packages (from spacy>=2.1.0->neuralcoref) (7.4.1)\n",
            "Requirement already satisfied: cymem<2.1.0,>=2.0.2 in /usr/local/lib/python3.6/dist-packages (from spacy>=2.1.0->neuralcoref) (2.0.3)\n",
            "Requirement already satisfied: blis<0.5.0,>=0.4.0 in /usr/local/lib/python3.6/dist-packages (from spacy>=2.1.0->neuralcoref) (0.4.1)\n",
            "Requirement already satisfied: preshed<3.1.0,>=3.0.2 in /usr/local/lib/python3.6/dist-packages (from spacy>=2.1.0->neuralcoref) (3.0.2)\n",
            "Requirement already satisfied: murmurhash<1.1.0,>=0.28.0 in /usr/local/lib/python3.6/dist-packages (from spacy>=2.1.0->neuralcoref) (1.0.2)\n",
            "Requirement already satisfied: catalogue<1.1.0,>=0.0.7 in /usr/local/lib/python3.6/dist-packages (from spacy>=2.1.0->neuralcoref) (1.0.0)\n",
            "Requirement already satisfied: botocore<1.20.0,>=1.19.9 in /usr/local/lib/python3.6/dist-packages (from boto3->neuralcoref) (1.19.9)\n",
            "Requirement already satisfied: jmespath<1.0.0,>=0.7.1 in /usr/local/lib/python3.6/dist-packages (from boto3->neuralcoref) (0.10.0)\n",
            "Requirement already satisfied: s3transfer<0.4.0,>=0.3.0 in /usr/local/lib/python3.6/dist-packages (from boto3->neuralcoref) (0.3.3)\n",
            "Requirement already satisfied: importlib-metadata>=0.20; python_version < \"3.8\" in /usr/local/lib/python3.6/dist-packages (from catalogue<1.1.0,>=0.0.7->spacy>=2.1.0->neuralcoref) (2.0.0)\n",
            "Requirement already satisfied: python-dateutil<3.0.0,>=2.1 in /usr/local/lib/python3.6/dist-packages (from botocore<1.20.0,>=1.19.9->boto3->neuralcoref) (2.8.1)\n",
            "Requirement already satisfied: zipp>=0.5 in /usr/local/lib/python3.6/dist-packages (from importlib-metadata>=0.20; python_version < \"3.8\"->catalogue<1.1.0,>=0.0.7->spacy>=2.1.0->neuralcoref) (3.3.1)\n",
            "Requirement already satisfied: six>=1.5 in /usr/local/lib/python3.6/dist-packages (from python-dateutil<3.0.0,>=2.1->botocore<1.20.0,>=1.19.9->boto3->neuralcoref) (1.15.0)\n",
            "Installing collected packages: neuralcoref\n",
            "Successfully installed neuralcoref-4.0\n"
          ],
          "name": "stdout"
        }
      ]
    },
    {
      "cell_type": "code",
      "metadata": {
        "id": "BjZ2L17Cvqhb",
        "outputId": "0b73195f-72ff-4fa5-c734-4e87690f2254",
        "colab": {
          "base_uri": "https://localhost:8080/"
        }
      },
      "source": [
        "!python -m spacy download en_core_web_md"
      ],
      "execution_count": null,
      "outputs": [
        {
          "output_type": "stream",
          "text": [
            "Collecting en_core_web_md==2.3.1\n",
            "\u001b[?25l  Downloading https://github.com/explosion/spacy-models/releases/download/en_core_web_md-2.3.1/en_core_web_md-2.3.1.tar.gz (50.8MB)\n",
            "\u001b[K     |████████████████████████████████| 50.8MB 1.4MB/s \n",
            "\u001b[?25hRequirement already satisfied: spacy<2.4.0,>=2.3.0 in /usr/local/lib/python3.6/dist-packages (from en_core_web_md==2.3.1) (2.3.2)\n",
            "Requirement already satisfied: thinc==7.4.1 in /usr/local/lib/python3.6/dist-packages (from spacy<2.4.0,>=2.3.0->en_core_web_md==2.3.1) (7.4.1)\n",
            "Requirement already satisfied: numpy>=1.15.0 in /usr/local/lib/python3.6/dist-packages (from spacy<2.4.0,>=2.3.0->en_core_web_md==2.3.1) (1.18.5)\n",
            "Requirement already satisfied: catalogue<1.1.0,>=0.0.7 in /usr/local/lib/python3.6/dist-packages (from spacy<2.4.0,>=2.3.0->en_core_web_md==2.3.1) (1.0.0)\n",
            "Requirement already satisfied: wasabi<1.1.0,>=0.4.0 in /usr/local/lib/python3.6/dist-packages (from spacy<2.4.0,>=2.3.0->en_core_web_md==2.3.1) (0.8.0)\n",
            "Requirement already satisfied: tqdm<5.0.0,>=4.38.0 in /usr/local/lib/python3.6/dist-packages (from spacy<2.4.0,>=2.3.0->en_core_web_md==2.3.1) (4.41.1)\n",
            "Requirement already satisfied: setuptools in /usr/local/lib/python3.6/dist-packages (from spacy<2.4.0,>=2.3.0->en_core_web_md==2.3.1) (50.3.2)\n",
            "Requirement already satisfied: plac<1.2.0,>=0.9.6 in /usr/local/lib/python3.6/dist-packages (from spacy<2.4.0,>=2.3.0->en_core_web_md==2.3.1) (0.9.6)\n",
            "Requirement already satisfied: requests<3.0.0,>=2.13.0 in /usr/local/lib/python3.6/dist-packages (from spacy<2.4.0,>=2.3.0->en_core_web_md==2.3.1) (2.23.0)\n",
            "Requirement already satisfied: srsly<1.1.0,>=1.0.2 in /usr/local/lib/python3.6/dist-packages (from spacy<2.4.0,>=2.3.0->en_core_web_md==2.3.1) (1.0.2)\n",
            "Requirement already satisfied: cymem<2.1.0,>=2.0.2 in /usr/local/lib/python3.6/dist-packages (from spacy<2.4.0,>=2.3.0->en_core_web_md==2.3.1) (2.0.3)\n",
            "Requirement already satisfied: preshed<3.1.0,>=3.0.2 in /usr/local/lib/python3.6/dist-packages (from spacy<2.4.0,>=2.3.0->en_core_web_md==2.3.1) (3.0.2)\n",
            "Requirement already satisfied: blis<0.5.0,>=0.4.0 in /usr/local/lib/python3.6/dist-packages (from spacy<2.4.0,>=2.3.0->en_core_web_md==2.3.1) (0.4.1)\n",
            "Requirement already satisfied: murmurhash<1.1.0,>=0.28.0 in /usr/local/lib/python3.6/dist-packages (from spacy<2.4.0,>=2.3.0->en_core_web_md==2.3.1) (1.0.2)\n",
            "Requirement already satisfied: importlib-metadata>=0.20; python_version < \"3.8\" in /usr/local/lib/python3.6/dist-packages (from catalogue<1.1.0,>=0.0.7->spacy<2.4.0,>=2.3.0->en_core_web_md==2.3.1) (2.0.0)\n",
            "Requirement already satisfied: idna<3,>=2.5 in /usr/local/lib/python3.6/dist-packages (from requests<3.0.0,>=2.13.0->spacy<2.4.0,>=2.3.0->en_core_web_md==2.3.1) (2.10)\n",
            "Requirement already satisfied: urllib3!=1.25.0,!=1.25.1,<1.26,>=1.21.1 in /usr/local/lib/python3.6/dist-packages (from requests<3.0.0,>=2.13.0->spacy<2.4.0,>=2.3.0->en_core_web_md==2.3.1) (1.24.3)\n",
            "Requirement already satisfied: chardet<4,>=3.0.2 in /usr/local/lib/python3.6/dist-packages (from requests<3.0.0,>=2.13.0->spacy<2.4.0,>=2.3.0->en_core_web_md==2.3.1) (3.0.4)\n",
            "Requirement already satisfied: certifi>=2017.4.17 in /usr/local/lib/python3.6/dist-packages (from requests<3.0.0,>=2.13.0->spacy<2.4.0,>=2.3.0->en_core_web_md==2.3.1) (2020.6.20)\n",
            "Requirement already satisfied: zipp>=0.5 in /usr/local/lib/python3.6/dist-packages (from importlib-metadata>=0.20; python_version < \"3.8\"->catalogue<1.1.0,>=0.0.7->spacy<2.4.0,>=2.3.0->en_core_web_md==2.3.1) (3.3.1)\n",
            "Building wheels for collected packages: en-core-web-md\n",
            "  Building wheel for en-core-web-md (setup.py) ... \u001b[?25l\u001b[?25hdone\n",
            "  Created wheel for en-core-web-md: filename=en_core_web_md-2.3.1-cp36-none-any.whl size=50916643 sha256=ff78fe7542c2b4d9cbec2c2aa18671683da475acda3971c769ee30cc3500c47a\n",
            "  Stored in directory: /tmp/pip-ephem-wheel-cache-2es6x68a/wheels/6e/65/3a/34cdc26d4084d1d1f1e2ec9914964759ea17aa382c53a57d9f\n",
            "Successfully built en-core-web-md\n",
            "Installing collected packages: en-core-web-md\n",
            "Successfully installed en-core-web-md-2.3.1\n",
            "\u001b[38;5;2m✔ Download and installation successful\u001b[0m\n",
            "You can now load the model via spacy.load('en_core_web_md')\n"
          ],
          "name": "stdout"
        }
      ]
    },
    {
      "cell_type": "code",
      "metadata": {
        "id": "HxU_Qcu5wII4",
        "outputId": "360df6d2-5d6d-4ad3-a5f0-d540abd3e317",
        "colab": {
          "base_uri": "https://localhost:8080/"
        }
      },
      "source": [
        "!pip install bert-extractive-summarizer"
      ],
      "execution_count": null,
      "outputs": [
        {
          "output_type": "stream",
          "text": [
            "Collecting bert-extractive-summarizer\n",
            "  Downloading https://files.pythonhosted.org/packages/7b/e3/c8b820d8c0a96a9318a423a38242275f2e862425793b5b8287e982324ffc/bert_extractive_summarizer-0.5.1-py3-none-any.whl\n",
            "Collecting transformers\n",
            "\u001b[?25l  Downloading https://files.pythonhosted.org/packages/2c/4e/4f1ede0fd7a36278844a277f8d53c21f88f37f3754abf76a5d6224f76d4a/transformers-3.4.0-py3-none-any.whl (1.3MB)\n",
            "\u001b[K     |████████████████████████████████| 1.3MB 4.8MB/s \n",
            "\u001b[?25hRequirement already satisfied: scikit-learn in /usr/local/lib/python3.6/dist-packages (from bert-extractive-summarizer) (0.22.2.post1)\n",
            "Requirement already satisfied: spacy in /usr/local/lib/python3.6/dist-packages (from bert-extractive-summarizer) (2.2.4)\n",
            "Requirement already satisfied: filelock in /usr/local/lib/python3.6/dist-packages (from transformers->bert-extractive-summarizer) (3.0.12)\n",
            "Requirement already satisfied: tqdm>=4.27 in /usr/local/lib/python3.6/dist-packages (from transformers->bert-extractive-summarizer) (4.41.1)\n",
            "Collecting sentencepiece!=0.1.92\n",
            "\u001b[?25l  Downloading https://files.pythonhosted.org/packages/e5/2d/6d4ca4bef9a67070fa1cac508606328329152b1df10bdf31fb6e4e727894/sentencepiece-0.1.94-cp36-cp36m-manylinux2014_x86_64.whl (1.1MB)\n",
            "\u001b[K     |████████████████████████████████| 1.1MB 21.3MB/s \n",
            "\u001b[?25hRequirement already satisfied: requests in /usr/local/lib/python3.6/dist-packages (from transformers->bert-extractive-summarizer) (2.23.0)\n",
            "Requirement already satisfied: packaging in /usr/local/lib/python3.6/dist-packages (from transformers->bert-extractive-summarizer) (20.4)\n",
            "Requirement already satisfied: numpy in /usr/local/lib/python3.6/dist-packages (from transformers->bert-extractive-summarizer) (1.18.5)\n",
            "Requirement already satisfied: regex!=2019.12.17 in /usr/local/lib/python3.6/dist-packages (from transformers->bert-extractive-summarizer) (2019.12.20)\n",
            "Requirement already satisfied: protobuf in /usr/local/lib/python3.6/dist-packages (from transformers->bert-extractive-summarizer) (3.12.4)\n",
            "Requirement already satisfied: dataclasses; python_version < \"3.7\" in /usr/local/lib/python3.6/dist-packages (from transformers->bert-extractive-summarizer) (0.7)\n",
            "Collecting sacremoses\n",
            "\u001b[?25l  Downloading https://files.pythonhosted.org/packages/7d/34/09d19aff26edcc8eb2a01bed8e98f13a1537005d31e95233fd48216eed10/sacremoses-0.0.43.tar.gz (883kB)\n",
            "\u001b[K     |████████████████████████████████| 890kB 34.8MB/s \n",
            "\u001b[?25hCollecting tokenizers==0.9.2\n",
            "\u001b[?25l  Downloading https://files.pythonhosted.org/packages/7c/a5/78be1a55b2ac8d6a956f0a211d372726e2b1dd2666bb537fea9b03abd62c/tokenizers-0.9.2-cp36-cp36m-manylinux1_x86_64.whl (2.9MB)\n",
            "\u001b[K     |████████████████████████████████| 2.9MB 45.3MB/s \n",
            "\u001b[?25hRequirement already satisfied: scipy>=0.17.0 in /usr/local/lib/python3.6/dist-packages (from scikit-learn->bert-extractive-summarizer) (1.4.1)\n",
            "Requirement already satisfied: joblib>=0.11 in /usr/local/lib/python3.6/dist-packages (from scikit-learn->bert-extractive-summarizer) (0.17.0)\n",
            "Requirement already satisfied: preshed<3.1.0,>=3.0.2 in /usr/local/lib/python3.6/dist-packages (from spacy->bert-extractive-summarizer) (3.0.2)\n",
            "Requirement already satisfied: plac<1.2.0,>=0.9.6 in /usr/local/lib/python3.6/dist-packages (from spacy->bert-extractive-summarizer) (1.1.3)\n",
            "Requirement already satisfied: setuptools in /usr/local/lib/python3.6/dist-packages (from spacy->bert-extractive-summarizer) (50.3.2)\n",
            "Requirement already satisfied: thinc==7.4.0 in /usr/local/lib/python3.6/dist-packages (from spacy->bert-extractive-summarizer) (7.4.0)\n",
            "Requirement already satisfied: srsly<1.1.0,>=1.0.2 in /usr/local/lib/python3.6/dist-packages (from spacy->bert-extractive-summarizer) (1.0.2)\n",
            "Requirement already satisfied: wasabi<1.1.0,>=0.4.0 in /usr/local/lib/python3.6/dist-packages (from spacy->bert-extractive-summarizer) (0.8.0)\n",
            "Requirement already satisfied: blis<0.5.0,>=0.4.0 in /usr/local/lib/python3.6/dist-packages (from spacy->bert-extractive-summarizer) (0.4.1)\n",
            "Requirement already satisfied: cymem<2.1.0,>=2.0.2 in /usr/local/lib/python3.6/dist-packages (from spacy->bert-extractive-summarizer) (2.0.3)\n",
            "Requirement already satisfied: catalogue<1.1.0,>=0.0.7 in /usr/local/lib/python3.6/dist-packages (from spacy->bert-extractive-summarizer) (1.0.0)\n",
            "Requirement already satisfied: murmurhash<1.1.0,>=0.28.0 in /usr/local/lib/python3.6/dist-packages (from spacy->bert-extractive-summarizer) (1.0.2)\n",
            "Requirement already satisfied: idna<3,>=2.5 in /usr/local/lib/python3.6/dist-packages (from requests->transformers->bert-extractive-summarizer) (2.10)\n",
            "Requirement already satisfied: certifi>=2017.4.17 in /usr/local/lib/python3.6/dist-packages (from requests->transformers->bert-extractive-summarizer) (2020.6.20)\n",
            "Requirement already satisfied: urllib3!=1.25.0,!=1.25.1,<1.26,>=1.21.1 in /usr/local/lib/python3.6/dist-packages (from requests->transformers->bert-extractive-summarizer) (1.24.3)\n",
            "Requirement already satisfied: chardet<4,>=3.0.2 in /usr/local/lib/python3.6/dist-packages (from requests->transformers->bert-extractive-summarizer) (3.0.4)\n",
            "Requirement already satisfied: six in /usr/local/lib/python3.6/dist-packages (from packaging->transformers->bert-extractive-summarizer) (1.15.0)\n",
            "Requirement already satisfied: pyparsing>=2.0.2 in /usr/local/lib/python3.6/dist-packages (from packaging->transformers->bert-extractive-summarizer) (2.4.7)\n",
            "Requirement already satisfied: click in /usr/local/lib/python3.6/dist-packages (from sacremoses->transformers->bert-extractive-summarizer) (7.1.2)\n",
            "Requirement already satisfied: importlib-metadata>=0.20; python_version < \"3.8\" in /usr/local/lib/python3.6/dist-packages (from catalogue<1.1.0,>=0.0.7->spacy->bert-extractive-summarizer) (2.0.0)\n",
            "Requirement already satisfied: zipp>=0.5 in /usr/local/lib/python3.6/dist-packages (from importlib-metadata>=0.20; python_version < \"3.8\"->catalogue<1.1.0,>=0.0.7->spacy->bert-extractive-summarizer) (3.3.1)\n",
            "Building wheels for collected packages: sacremoses\n",
            "  Building wheel for sacremoses (setup.py) ... \u001b[?25l\u001b[?25hdone\n",
            "  Created wheel for sacremoses: filename=sacremoses-0.0.43-cp36-none-any.whl size=893257 sha256=1474abf4dd47cf37228390b05855461f960ce0eb8e71a05de9e34900548f93a1\n",
            "  Stored in directory: /root/.cache/pip/wheels/29/3c/fd/7ce5c3f0666dab31a50123635e6fb5e19ceb42ce38d4e58f45\n",
            "Successfully built sacremoses\n",
            "Installing collected packages: sentencepiece, sacremoses, tokenizers, transformers, bert-extractive-summarizer\n",
            "Successfully installed bert-extractive-summarizer-0.5.1 sacremoses-0.0.43 sentencepiece-0.1.94 tokenizers-0.9.2 transformers-3.4.0\n"
          ],
          "name": "stdout"
        }
      ]
    },
    {
      "cell_type": "code",
      "metadata": {
        "id": "HMSbAUoLvuDX",
        "outputId": "ff791983-6350-4e7d-9f8d-ec566f20f359",
        "colab": {
          "base_uri": "https://localhost:8080/",
          "height": 164,
          "referenced_widgets": [
            "af8683808a76411780adef31e4b53017",
            "d8a5e594746a41da83e7b4519b1751af",
            "d40a4612370848ef9f7b121e8a293027",
            "aefd95f92c0b48968c6ac5aceb961ec0",
            "a6f176987273473dacf4ae410ee5f481",
            "9541ddf6416a414e9936598df8c4c1c2",
            "3e0664255f144f1fae484a3027a287e3",
            "70652b2b8d7c429b8002dea6d23e4469",
            "2209f531f4d0417d8b86e6f7b3972e11",
            "d857f040469c4d709d5419935a217a90",
            "983bc3d309df4db28d1769cb120a723e",
            "70fac25a70ff4953b4dea783f2bad6e0",
            "ec5344cb469840aab0130e3b67bd68eb",
            "32936bcc77ae4e73878ed370a6db7980",
            "72f5ead1606c46fcb24cfe429b79dd02",
            "c9e57f56197b4668b6df7a29599ffeef",
            "50a4c098e108474585cdb0c12e741a18",
            "bf285c8238934486a538e1330677fb9f",
            "a9ffac949c0445f5b9932236c0fcea66",
            "e8d7c09aa3b4426fbaa800281dc842ed",
            "2a5e654d91554b628fde72c6d30cc4be",
            "5b6c8a13019f493684a483a14a4707ad",
            "1ae74bc827ad490d98e08576c1e4ab9e",
            "e6ad553486e249bb93e6c3c1669b3c4d"
          ]
        }
      },
      "source": [
        "from summarizer import Summarizer\n",
        "\n",
        "model = Summarizer()"
      ],
      "execution_count": null,
      "outputs": [
        {
          "output_type": "display_data",
          "data": {
            "application/vnd.jupyter.widget-view+json": {
              "model_id": "af8683808a76411780adef31e4b53017",
              "version_minor": 0,
              "version_major": 2
            },
            "text/plain": [
              "HBox(children=(FloatProgress(value=0.0, description='Downloading', max=434.0, style=ProgressStyle(description_…"
            ]
          },
          "metadata": {
            "tags": []
          }
        },
        {
          "output_type": "stream",
          "text": [
            "\n"
          ],
          "name": "stdout"
        },
        {
          "output_type": "display_data",
          "data": {
            "application/vnd.jupyter.widget-view+json": {
              "model_id": "2209f531f4d0417d8b86e6f7b3972e11",
              "version_minor": 0,
              "version_major": 2
            },
            "text/plain": [
              "HBox(children=(FloatProgress(value=0.0, description='Downloading', max=1344997306.0, style=ProgressStyle(descr…"
            ]
          },
          "metadata": {
            "tags": []
          }
        },
        {
          "output_type": "stream",
          "text": [
            "\n"
          ],
          "name": "stdout"
        },
        {
          "output_type": "display_data",
          "data": {
            "application/vnd.jupyter.widget-view+json": {
              "model_id": "50a4c098e108474585cdb0c12e741a18",
              "version_minor": 0,
              "version_major": 2
            },
            "text/plain": [
              "HBox(children=(FloatProgress(value=0.0, description='Downloading', max=231508.0, style=ProgressStyle(descripti…"
            ]
          },
          "metadata": {
            "tags": []
          }
        },
        {
          "output_type": "stream",
          "text": [
            "\n"
          ],
          "name": "stdout"
        }
      ]
    },
    {
      "cell_type": "code",
      "metadata": {
        "id": "QUqhZqTowA9t"
      },
      "source": [
        "body = \"hey what's up mkbhd here, and this is the iphone 12.. i feel, like we've all seen an iphone before at this point. this is a pretty familiar iphone. we've seen the rounded corners and the notch and the lightning port, but there are a couple key changes this year that are a first in the iphone, so i've been using this iphone 12 for a bit since my impressions, video and it's my favorite iphone ever mostly because of this design, but if you're considering getting one there's some stuff, you should know now i'm going to do a separate video on the pro in this sweet blue color. i think it's the best color, but these two phones are very similar same exact size. like a case that works for one works for the other same main cameras, almost the same screen same battery same charging, but there's a couple things that only apply to the pro and i'll go over those in that video. but let's just start with the 12. with this new design, shall we i love this super flat design. it is so flat, it's not the typical, almost flat where the screen is flat right up to the edges, and then it curves over the very edge and they call it like 2.5 d. no, this is flat flat, like the phone happens, to be a little bit thinner and a little bit lighter than last year, but i'm not as concerned with that, but the square sides are actually the most efficient way to pack in those internals into the phone as efficiently as possible - and i happen to think it looks and feels super premium and modern on top of all that now this kind of red, but also kind of salmon, sometimes product red version after seeing it in person, i'd probably not go for this i'd go for either the blue or the black but yeah those aluminum rails are everything they're more grippable, maybe a little less comfortable at first, but hey the buttons are clicky. the power button is a little bit bigger. it's still ip68 water resistant you've got your 5g antenna cut out on the right hand, side in some regions, which trust me i'll get way into that in a second and yeah. i just like holding this phone now, if you put a case on it, i guess a lot of that doesn't matter as much you'll notice it less obviously, but still even some cases are flattening out their dimensions for the iphone 12, so that again, will make it easier to grip, harder to drop and speaking of dropping all these new iphones come with on the front something new called ceramic shield, and this is basically this specialty hardened kind of glass with crystal structure inside it, and it's on the front of these phones over the screen and it's supposed to offer four times better drop protection so shatter protection, basically, which is great, but i typically care just as much, if not more about scratch. resistance. all the little micro scratches that your phone gathers over time and the thing about scratch resistance is it's typically inversely proportional to shatter resistance. so if you think about it, the softer something is the less likely it is to shatter, but then the easier it is to scratch it and vice versa, the harder something is the less likely you are to scratch it, but the more brittle it is and the more shatterable it becomes so i see the headline of better drop protection and that's great, but i'm not about to drop my phone to find out if it works. i'm sure people are already on that. i have no idea how they'll land on that 4x number, but all right, all i know, is - i already have a little gash in my screen on the left hand side here, which is so sad, but that's probably out of level six, no idea how that happened, but i'm feeling like the iphone, is not significantly more scratch resistant than before. of course, zach will probably tell us the truth there, so if it shatters a lot less when dropped, we'll see, that would be nice, but i feel like a lot of the drop stuff. is happenstance like if i happen to drop my phone a certain way? it's definitely gon na crack right and if i happen to drop my phone another way, it's probably not going to so i don't know. i don't want to worry about too much use the case. if you want to use a screen protector, if you really want to i'm just going to i'm just going to live my life, so possibly the biggest external hardware feature of the new iphones is magsafe, and i think it has bigger implications for the future of the iphone but right now, magsafe is the optional new magnetic charging accessory standard on the back like right behind the apple logo. so the number one magsafe accessory that apple sells is the puck charger. it doesn't come with a brick by the way. so if you buy the charger 40 bucks make sure you have a usbc charging brick but uh yeah, just kind of slaps onto the back of the phone. you line it up with the magnets you kind of get used to where it places right over the apple logo and that's all good. this charges at 15 watts, while every other wireless charger on the iphone, still charges at seven and a half watts and a couple other faqs on this number one. yes, it is still qi charging, so you can still charge the iphone 12 with other wireless chargers and you can charge other phones with the magsafe puck if you're into that number two, the durability concern with magsafe leaving marks on the iphone. i have noticed that on mine too, but i don't think it'll turn out to be a long-term problem. it just seems to wipe off every time like you might remember how the homepod was leaving these little white stained rings on certain wood tables, which is kind of understandable, because not every table is the same, but i feel like i guess i hope, apple's probably tested this, like a hundred thousand times and probably determined that it's not an issue about the way they made this so should be okay and then number three. i was getting a lot of questions about this. yes, you can magsafe charge through most non-magsafe cases as long as they're thin enough and even that magnet will actually still work through some thin cases. so i didn't really have any non-magsafe cases here to test, but of course, channel sponsored dbrand sent over a grip case, and i can confirm it's thin enough to work just fine with a magsafe charger. kinda, like it is a magsafe charger and, yes, all the other benefits of a case, grippiness protection, they all still apply. so since i know most people end up looking for a good one. i'll leave a link to this case below now. at the beginning of this magsafe bit, i said something i said it was optional, which it is for now, but i feel like we can. all sort of see where this is going, which is apple, is slowly moving towards eventually making a portless iphone, which i think that's a whole separate video's worth of rant. but bottom line is their solution to wirelessly. conveniently charging a phone that doesn't have a port is going to be magsafe this thing right here, so it's not amazing, but i guess it's fine. the couple of accessories they've made for it so far, not bad there's a regular case, of course, that you can continue to stack things through there's a kind of weird looking clear version of the case for some reason: there's a wallet that i mentioned. that doesn't have very strong magnets, but if you think about it, it's not so peculiar that the one accessory they chose to make outside of a case is a wallet like. let me know if there's any flaw in this, this series of logic right so apple, wants to get rid of the port on the iphone and go totally wireless charging for everything at a certain point, maybe next year, whatever right, so they already see ahead of time. this particular headline, which is people who use wallet cases, can't wireless charge their iphone, so they can't charge the iphone at all. so apple needs to invent a way for people who use wallet cases to continue to charge their phone, so they invent an accessory, which is a removable wallet bit. so you can charge the phone and when you don't need to charge it, you can put the wallet back on that seems to check out, like i said, it's a whole thing, but today, optional battery life on these phones has actually been pretty good, but not noticeably better than last year, at all matter of fact, it's actually a slightly larger higher res display and actually a smaller physical battery. so it's pretty impressive that the phone still does. okay, you can kill it in a day with six hours of screen on time or just a lot of heavy use, but this isn't new with this standard size iphone. if you want a real battery champ, you can go for the bigger phone. the actual best new piece of the iphone 12, though, is definitely the new display. it goes from being that 720p lcd with bigger bezels. that was really easy to make fun of to this. much better and even slightly bigger, 6.1 inch, 1080p oled, it's like night and day, it's basically on par with the pro, which is actually pretty surprising to me, just a slightly lower peak brightness. now it's 60 hertz again and while that's kind of a missing feature at this point on an 800 phone in 2020, i was actually kind of expecting that i was just thinking. the pros would get 120 hertz displays this year, but obviously none of them did, which is a bummer. but let's be honest, they probably saw that as a battery saving measure, since this phone did also just get 5g. so let's talk about 5g. i kind of love and hate 5g right now, so this slogan apple, and i guess the carriers 2 really keep pushing that 5g. just got real 5g. just got real, really just now. 5g. just now got real. last time i checked like this year. i reviewed like 30 phones with 5g, so clearly, 5g has already existed, but there's a reason, they're saying it this way. so, first of all, i did a video all about 5g, where i went to a 5g area testing it explaining it showing what's good about it and what its limitations are. i'm gon na leave it linked right below the like button. if you want to watch it catch up on that, but the bottom line is it's really promising, but it's still being built right now, but carriers - and i guess apple, really like the message that 5g just got real, because now that all of the new iphones have 5g built in there's about to be millions and millions and millions more people walking around with 5g capable phones in a few very short months, and when that happens, that tends to accelerate development. that sort of makes it real, which i get it, but also the carriers, would very very much like you to upgrade to their 5g plan please, but we got to remember 5g in 2020. has its ups and its downs like this iphone 12. i'm using here has verizon 5g, which is surprisingly actually in my area. it's not millimeter wave, it's not ultra wide band, but it can still give me roughly 20 faster download and upload speeds, but 5g radios are also pretty power hungry and the more time you spend on 5g, the more battery you bleed through now apple's thought a lot about this, of course, so their solution and you might have caught it on stage during the announcement - is called smart data mode and basically it tries to only use 5g when you actually need it to save battery. so when you're in a 4g area, you're on 4g speeds everything works with lte no problem. you're good it'll feel normal when you're in a 5g area and you're doing a lot of bandwidth, intensive stuff, you're downloading a bunch of videos and music you're face timing and crispy hd you're doing a lot of that high bandwidth stuff, that's going to use 5g and that's going to improve that experience a lot, but if you are in a 5g area but not really doing anything that benefits from 5g, then your phone will actually switch off and stick with 4g and as the verge reported it'll actually still show you the 5g indicator. in the corner, but you'll get 4g speeds which we'll probably find, but that also explains this sort of weird speed test result. so look my take, is i get it? the best technologies are supposed to be invisible. like you shouldn't, even notice, they work. you go to download something while walking around you're in a 5g area. boom 5g turns on your downloads, go super quick and then it turns off to save battery kind of like promotion on the ipad pro. it goes up to 120 hertz when you're scrolling and playing games and actually using it, but when you're not you're just sitting on the home screen or watching a video, it will go down to 24 hertz to save battery. so it's sort of not there when you don't need it it's there when it helps you. it's just weird that the whole messaging has been in your face: 5g. 5g. 5g. 5g. 5g. so yeah, i would say, don't buy this phone now because you want to get a 5g phone. but if you do get this phone now, then maybe it'll be a nice bonus if you're in a 5g area or in the future. when you end up in a 5g area, you'll be able to use that too cool all right. new iphone equals new best camera ever in an iphone right. well sure, iphone 12's got a slightly updated dual camera system with a standard and an ultra wide. the standard has a slightly wider aperture at f 1.6 instead of f 1.8, and, to be honest, it's not really much of a difference in the camera like it's just not same as the pixel they're, not really doing anything too drastic. if it ain't broke, don't fix it really. the hardware improvements are almost impossible to notice in regular photos, but they will get you an improvement in like the edge cases. the most difficult photo and video taking scenarios so like handheld in low light, that'll be better night mode, will be better, auto focus on fast moving subjects. super high dynamic range shots like shooting straight into the sun, thanks to smart, hdr3 stuff, like that other than that it still looks like iphone photos, which is to say some of the absolute best and most consistent crisp photos on any smartphone. so that's not a letdown but iphone video, though firmly in a league of its own. it firmly like every time i test a new iphone camera. it's just the video camera is so much better and people care a lot about video. they take a lot of videos, so you'd want to know yeah the iphone takes great video and that's despite not shooting 8k, and not having a huge new sensor or anything crazy like that. it's just so fine-tuned and so reliable. but i want to save my full analysis of that for the video about the pros, because i think pros care even more about video stuff and there's potentially well there's even new hardware of the sensors in the 12 pro max. so that could be interesting to see my one knock is. it does seem like there's more flaring in low light, video like just a ton of little orbs for every little point, light source, but it's still very usable, though now you might have heard about dolby vision. hdr these new iphones are the first cameras, the only cameras in the world to shoot bit high, dynamic range, dolby, vision, 4k, video and that's awesome. hdr video is awesome, higher brighter brights, deeper shadows, overall, better images even better perceived quality. i love hdr, but here's the thing: dolby vision is just one hdr standard or format by dolby, and there are other hdr standards that have been out. you might heard of. hdr10 is one of them and that some other smartphones have actually started enabling you to shoot. you might have a smartphone in your pocket right now that is already capable of shooting hdr10 video, but the issue with new formats is always compatibility, so some tvs are hdr10 certified. some aren't. some displays are adobe vision. certified some aren't, so you can look at the display. the video you take on the iphone and it's dolby vision certified and it looks amazing and if you send this video to another iphone 12 it'll. look amazing on that iphone. but as soon as you upload it to twitter or instagram or tick, tock or kinda, anything at this point even youtube. it doesn't show up as that hdr on most people's screens. it's back to sdr, but the big deal here again is kind of like 5g, because there's about to be so many iphone 12s in the world, there's about to be millions of new devices and new people out there shooting tons of hdr video and looking to share it and so now, there's more incentive for places and and apps like twitter and instagram and tick tock to support hdr. so maybe the tagline should have been hdr just got real anyway. the rest of the iphone is pretty familiar and that's a good thing for most people, ios 14 - we've all seen it by now. it's familiar even though there's a couple bugs and apps that will probably get updated pretty soon face id. it's completely unchanged. even performance is familiar since there's nothing super new like high refresh rate. there is the new a14 bionic inside, which is one of the very first five nanometer chips in any device which is a more powerful, cpu and gpu and is paired with 4 gigs of ram and everything's great. but that's mainly for speed that you're going to notice. later down the road when the phone is 2, 3, 4 years old and hopefully still feeling really fast, but fundamentally there isn't really that much of a difference in these iphones and the performance you get this year versus what last year didn't already do just a little bit faster, but yeah, even at a somewhat premium 830 bucks. that's the actual price. apple's website shows carrier pricing at first, so it's a little misleading, but even at that price yeah this phone with best in class cameras best in class performance. much better screen is pretty damn good. it's. this is the one to get for most people. here's a too long, didn't watch version for those of you lazy people that i know just went down to the chapters and skipped to this. it's a great phone, the best new parts of it are definitely the display, which was a huge knock up from last year, knock up why'd. i say it like that. the display is better battery life's about the same cameras are a little bit better. build quality and design are also an awesome improvement and magsafe it's optional for now, but might as well start getting used to it, and the worst part is. the price is a little higher because also 5g is built into the phone, even for people who are never going to use it. but that being said there, you have it great work, apple and definitely stay tuned for the review on the pro i want to dive into what makes it a pro you know as a as a youtuber. i think a lot about this as a content creator. am i a pro iphone user? i don't know, there's a lot to talk about there, but that's been the iphone 12. thanks for watching much coming up very soon, because you know tech toby guys it's over catch. you guys in the next one back peace and on and on\""
      ],
      "execution_count": null,
      "outputs": []
    },
    {
      "cell_type": "code",
      "metadata": {
        "id": "xU_WZfIUnfwU"
      },
      "source": [
        "dave_body = \"okay, so the title of this video has the pro in brackets: it's both the iphone 12 and the iphone 12 pro in one video and when i first started using these phones, i had originally planned on doing two separate reviews, one for the pro one for the non-pro, but as i use these phones more, i realized that they had to be done in one video for me on my channel. this had to be a one video, because there's so much that's like intertwined between these two phones, there's so many things in common between them. they have the same flat: edge, design, the same dimensions, same screen, size same screen, res the same notch sizes same magsafe, compatibility, same charging speeds, they even have the same charging brick. so clearly, there's a lot in common between these two phones. so if you have a conversation about one, it's just highly dependent on the other. now, if you take a step back and you look at the pricing, the iphone 12 is an 800 phone and for 25, more pay a thousand bucks and get the iphone 12 pro. now, for apple, this is a little strange to have phones that have a pretty different price point, but to have such a similar feature set, but here's the thing - i don't think this was the original plan, i think for apple. the iphone 12 pro was supposed to be a more substantial step up from the iphone 12. like this was supposed to have a 120 hertz display. we saw the rumors in the summer. this was going to have the high refresh screen, but somehow it didn't make it to these units, whether it's a supply chain issue or whatever the reason being. these don't have high refresh screens. so it's pushed the 12 pro closer to the 12 in terms of feature set and keep that in mind, because it's going to come back into play towards the end of the video. now both of these phones are excellent iphones. i love the flat edges and the super flat screen. the form factor is really nice, and the pacific blue on the pro is just a phenomenal color. this is like it's so hard to showcase this thing properly in videos. it's something you get to see in real life, but this is a really really nice. looking color to me and the displays on these phones are very similar. they're both 6.1 inches high resolution, oled tech they're nearly impossible to tell apart the iphone 12 pro, gets a little bit brighter, but i think the vast majority of people will find both of these screens really really good and seriously indistinguishable unless you're looking at them side by side and really looking for a difference in regards to ceramic shield, that's the tech, where apple claims a four times improvement in drop protection. that may be the case for drops and like shattered glass, but in terms of scratches, i don't think there's a noticeable improvement, at least not for me. i had this in my pocket in the same side as my keys, i normally try to separate it, but occasionally your phone goes into your key pocket right and i got a scratch it's unfortunate. but if you are someone who cares about this kind of stuff, you're still going to need a kind of screen protector, there's a new one from dbrand that uses tempered glass and it has a really good fit on these devices. now, in terms of the battery, both of these devices have the same battery size they're, both around 2800 milliamp hours and the iphone 12 lasts longer than the iphone 12 pro. the 11 pro with the bigger battery and the smaller screen lasts the longest, but the 12 pro is kind of short. i don't know why. i can't explain it. maybe it's a difference in software tweaks. maybe it's the extra ram on the pro. maybe the screens are actually more different than it seems on paper, but that's just that's just what i'm getting right now in terms of 4g versus 5g connectivity. i can only test for 4g up here in canada, so the battery life is good, but i have no idea what it'd be like if i connected these two 5g towers now magsafe the tech is neat, but it's not super impressive to me. i haven't seen anything from the magsafe accessories that really jump out to me as being like you know, i got ta have this right now the magnetically attached wireless charging is nice, but it's not. it doesn't feel super new to me. i originally thought, though, that having a ring of magnets on the back of your phone, isn't it doesn't impede anything right for the people that don't want to use magsafe anything. it doesn't change the phone experience, but i don't know because having a series of magnets embedded into the chassis of these phones, it has to take up some room in there right. maybe they have to use smaller batteries in there this year to implement magsafe. so it's cool that it's there, but i think we have to wait a little bit to see the true potential of what this tech is going to bring to the iphone ecosystem. now onto the cameras. the difference between these two phones lies in the camera system. they both now have low light ultrawides, it's something that the iphone 11s and the 11 pros really lacked, and they have them now. they are pretty good, but they're. not amazing right, i feel, like ultra wide photography done in low light conditions, is really tough. there's just a lot of data that has to collect and there's not a lot of light when it's dark and it's a difficult shot to do. the iphone 12 and the iphone 12 pro handle them reasonably well now, in terms of the regular wide lens, because the 12 pro has the lidar scanner. it often shoots better when it comes to tough conditions and in terms of portrait photography, it can also take advantage of that tech, it'll focus faster and give the system better depth information. now, in terms of the regular photos, i find that the 12 and the 12 pro shoot better than last year's iphones, particularly it comes to shots with more dynamic range, as well as shots that are showing more detail. there's just more clarity in the shots taken from the iphone 12s. the 12 pro does have the benefit of the 2x optical zoom, but they can both shoot in something called dolby vision. hdr. now because i use adobe premiere and it can't even handle this new kind of footage, i can't show it to you at least not unless i use a completely different editing program, but this tech is seemingly quite good, so john from tld, he shot a pretty cool hdr video with these phones that i'll link below, but it's tech that isn't easy to kind of visualize right now, because not a lot of phones can even support this type of visual experience. but the iphone 12s can shoot view and edit it all on the device. now i want to talk about pricing. this is a very important part of the conversation. the iphone 12 at 800 is an expensive phone, certainly not cheap, but it's a well-rounded phone this year. it's a strangely well-rounded phone, and i use the word strangely because it has such a similar feature set to the more expensive 12 pro, the significantly more expensive. 12. pro so, the 12 gets an easy recommendation for me. if you've been eyeing it and you can afford it, it's a it's, a very solid phone, the 12 pro when i first saw this on day one my kind of knee-jerk reaction is it's overpriced. it's too similar in feature set to the 12, but once you match the storage option, you're getting a better build quality, you're, getting a more robust camera system. although battery life is slightly less you're, not paying a huge amount of money for that extra 12 pro experience, but there is one last kind of twist to this story. at the beginning of the video i talked about how this phone was likely going to be upgraded to a 120 hertz panel next year right. i think those panels will only appear in the pro options like that would be the best way for apple to distinguish their pro phones from the non-pro phones. that's my guess! so if you're, someone who cares about high refresh screens - and you buy one of these this year, when the iphone 13 pro whatever they call it, when that comes out next year, you're gon na be extremely tempted to buy that one as well and so a phone that should last three four five years is now going to last one year now. this is only for people that care about high refresh screens and on this channel i think a lot of my viewers do i'm just putting it out there. so if you're someone who's drawn to either of these phones this year, keep that in mind, because this year the phones are weirdly similar, but next year i think the difference will be more substantial, possibly in price as well, and that is my iphone 12 and 12. pro review hope you guys enjoyed it thumbs if you liked it subs. if you loved it i'll see you guys next time you\""
      ],
      "execution_count": null,
      "outputs": []
    },
    {
      "cell_type": "code",
      "metadata": {
        "id": "T8xJV0V5b18K"
      },
      "source": [
        "mkbhd_surface = \"Hey what's up mkbhd here, and this is the surface duo screen on in all of its super sweet hinge, well-built ultra thin glory. It'S an amazing piece of hardware, but actually using it, as i have been for the past two to three weeks is a bit of a mixed bag, so i'm just gon na come right off the top and say it. I don't think most people should buy this and that's fine. I think, there's a lot of pretty cool devices out there that just aren't right for most people to buy and use. That'S all right, but now that you know that right off the top of the review, i want to approach this a little bit of a different way, a little more conceptual and just highlight the good, the bad and the ugly which actually for for surface duo. I'M gon na adjust a little it'll, be the good, the meh and the bad, because there are some really good pieces and some really good ideas. Then there's some meh stuff that didn't really quite work out and then there's some really bad too. But the most interesting thing is almost all of this comes from it being a first generation device. This is the first surface duo. It'S the first foldable phone from microsoft. It'S the first android phone from microsoft. It'S the first dual screen pocketable device with no cover screen. Like this, the first razer thin phone with a 360 degree hinge and two five-inch displays like this. So it's the first at a lot of things. But the thing is it's, the second generation of most things, that's the most interesting, or at least the most telling like that's when you get to see all of the learnings about what went well and what didn't go well and what they can change versus what they Can'T that's what's exciting. I am literally already looking forward to surface duo 2 like a lot, but let me just show you what went well and what didn't with this one, [ Applause ]! So what's the good? Well, if you remember the the first impressions video, where nobody was allowed to turn it on uh, i was raving about that hardware and that hinge - and i am sticking by that - the crazy thinness is obviously the first thing that strikes you. It'S barely thicker than a usb-c port on each side and then the 360-degree hinge. It'S awesome. It has this smoothness, but also a firmness to it where it can stop in any position. That'S just awesome so props to the hinge engineers and the result is all these postures, these different modes that you can hold or prop up the device. There'S book mode horizontal with you know, one screen on each side kind of like a book like this. There is compose mode so keyboard on one screen: content on the other single screen mode, thanks to the hinge flip, it all the way around 360 degrees pick a screen, there's also tent mode and peak mode and right as you get into all these postures, things do Get pretty complex because now the device is responding to a variety of orientation, changes and state of fold changes and we'll get more into the bugs, of course later in this video, but when it works well, it's really cool. It'S really nice. You can open up an app on one screen and literally do anything you want on the other screen. You can read two things at once. You can watch a video on one screen and take notes on it. On the other screen. You can move the video to the other side and move the notes back to the other side. You can just mess around you. Can you can close something and multitask while the video keeps going, you can always switch? What screen something is on or even drag to. The middle and span it between two screens now not every app, looks good spanned across both screens matter of fact, most don't like right now, it's up to developers to get in and update their apps and take advantage of this multitasking experience, which may not happen very Quickly, depending on how popular this is, but if you look at microsoft, suite of apps, the 365 suite outlook is a really good example where you span it across and you get email on one side and you can. You can use your calendar and view single events on one side and the calendar on the other, it's great so for me and surface duo, i found i tend to start by opening it up in book mode and then i slowly get into whatever i'm doing, which Is usually just on one side and then it's kind of awkward having the other side just kind of staring at me with nothing happening, wasting power, so i often switch over to single screen mode and use it like that and that's cool. It keeps the volume rocker and the power button on the right hand, side it's not bad. Basically, it's just a little wider than normal for typing, which i will again get to in a bit, but hey, there's always compose mode for when i need to do some really extended typing, like crafting a beautiful tweet with no typos or you know, writing an email Really the best example of this and microsoft knows: multitasking is a huge upside for surface duo, but samsung. Does it too on the fold? Is the app pairs, so they call them app groups and you can launch two apps at the same time, two different apps and you can come up with all sorts of sweet, combos and great ideas for how to use these. All you got ta do to make one of your own is pick an app hold. It down. Select app group pick the second app to pair them together then pick which screen you want each one to be on then create it, and just like that, i'm feeling, like an absolute productivity machine, pulling out the surface duo, flipping it open, launching a calendar in the Email at the same time - and yes, that's easily my most common app group - it's just so good - it makes so much sense with the dual screens, typically when you're multitasking on a phone. If you even do this at all you're like dragging two different windows, around sort of abstractly and even on the fold, you can do three at once, but how many people are really doing that with this? It'S just kind of staring you in the face like you have to you have to multitask. So that's what it does well really. Well, that's the core of what makes it a surface. So now, let's get into this stuff that is uh meh, so the bezels, a lot of people out here are really not feeling it. I definitely wish they were thinner, but you also have to realize the side. Bezels uh are actually a measure against accidental touches. That'S about as thin as you could get them without starting to touch the screen all the time, but i just think the top and bottom bezels are a little thick, then pocketability. So, okay, it is two 5.6 inch displays, but, as you can tell they're very wide for if it was a normal 5.6 inch phone plus those bezels, so the whole thing is shaped like a passport that you might be more likely to put in a back pocket. So for me it does stick out a bit in the front pocket i've kind of gotten used to it uh. But at this point, there's there's some big phones out there and this one sticks out, above all the rest as a little bit tough on smaller pockets. Maybe a little bit narrower would have been more palatable and then typing overall yeah. It'S it's all right, like it's a it's a mixed bag like i said so, the compose mode where you're just typing on the bottom screen, and you have whatever content on the top screen. That'S fine and microsoft. They partnered with swiftkey on this keyboard for android. That sort of smartly adapts to whatever posture you're in and shifts the keyboard accordingly. So if you're in book mode, you can't really type with one hand all over that one side screen. So if you need to it shifts the keyboard over and on one side, you can reach all the keys. It'S still way slower than two thumb typing, but it's better than nothing. The only bummer here is uh. Other third party keyboards - don't have this optimization yet so my keyboard of choice is g board and it just looks silly trying to span across the whole thing. So typing was hit or miss got ta, use, swiftkey and then performance. It'S you know, look we knew it wasn't gon na be the best performer. It was in development for a whole year, so it has last year's specs, snapdragon 855 and six gigs of ram it's not going to benchmark the highest. We knew that, but i think just using it, you start to see performance issues and i think my biggest performance issue here was just overall fluidity at 60, hertz and sure that's partially, because i am coming from other smooth high refresh rate flagships, including the new galaxy Fold actually, but i'm also just noticing a ton of little hiccups and lags while just moving around and multitasking. I think this device, that's geared specifically for multitaskers, could have hit us with a little bit more than six gigs of ram like. If it was me, i would have wanted like 12 gigs of ram in this guy, but yeah if you're used to flagship performance or any other high-end performance from an expensive phone, you kind of get it here, but overall meh and then battery life is also. You know kind of middle of the road better than i thought it would be. Actually so standby time is pretty good. It'S a 3600 milliamp hour battery, so i find when i'm opening it and using it like two screen multitasking. I can start to bleed through battery pretty fast and i can kill it in a day now, when i'm switching to one screen mode, which i did more often than not, which by the way is kind of rough with some car gps's like if you try to Put it in your dashboard, it's kind of silly, but either way when i'm using it one screen, i'm not drawing power from the back screen as much so i'm actually getting better battery life. When i do that and right now, i'm at half battery at 1 30 pm it's acceptable. But again you know you don't have wireless charging. You only have 18 watt fast charging, so overall the battery meh, but then we get to the bad like the stuff that it's truly terrible at, and i don't throw that word around very often. But it's when you get this first gen stuff, sometimes you're just gon na not have things go well right and so i'll even try to explore a little bit. Why i think some of these things went so bad. So, first of all the speaker, the speaker is absolute trash and i think it's pretty simple, there's just not enough room in here for some great speakers like it's a thin body, they're, not really top or bottom mounted, like you might expect to find them. It'S uh. Just at the top here in the earpiece and the slot up there, that's it so at absolute maximum volume, it sounds like a normal smartphone speaker at 50 volume and inside a tin can like it's pretty brutal, not enough room for a good speaker here and then The camera, so the camera is in fact terrible. The quality is trash and we kind of knew it would be already because it's like the opposite of what the zenfone is doing so on the zenfone 7, the huge main camera swivels around and becomes like basically the world's best selfie camera. On the surface duo you swivel around the selfie camera and it becomes possibly the worst main camera you can have at least the worst i've seen in a 1400 phone anyway - and you know, microsoft does call it an adaptive 11 megapixel camera. So it can tell when it's taking a selfie and optimized for faces versus when it's taking a regular photo but yeah all the optimization in the world isn't going to save this you're not going to make a webcam feel like a big optically stabilized sensor. It'S just not going to take good photos, but look it's not just the quality of the photos, this bad. It'S also just the ergonomics of taking a photo there's, no back camera like we've established so every time i want to take a photo of something in front of me. I have to do this flip it around unlock it open the camera app and then it's going to be in selfie mode. So now i have to try to swivel it around and get it to flip and by the time, i'm doing all this half the time. The shot is gone or i don't even feel like taking a photo anymore. So it felt like it actively discouraged me from taking photos and videos and really the worst bug is trying to get it to switch to the front viewfinder you're supposed to be able to double tap, to get it to switch. But it still stays in that selfie mode so often and pretty much anywhere else in the ui. You can force it to switch screens at any time by double tapping the off screen and it usually works great. But i guess in the camera, it's not listening to the double tap and the accelerometer is difficult to get it to switch it's rough and then there's a there's, a flash up there in the in the top bezel. Just to what. Why is there a flash? Is anyone really using this for nighttime photography but look microsoft? They know their audience right. This is the same company that has the the biggest most advertised feature of their new ear. Pods is the ability to swipe through powerpoint, slides, like the surface duo? Buyer doesn't really take a ton of photos and videos and stuff it's not a big deal. This will be fine for the occasional video chat. You know scanning documents, maybe a selfie once in a while, but i think the point is just leaving it at that is sacrificing what most people would want, which is like a a nice set of cameras on the back for what they've already decided they want, which Is a nice thin device with a 360 hinge that folds flat and i think that's gon na hold it back. I mean don't get me wrong. I still raved about how thin it was in the hardware and how much i love it, and i like that. I could get creative and prop it up in tent mode and get videos of myself without needing anyone's help, even though the videos were garbagio quality that was kind of cool. But the theme that i'm getting at here is overall practicality suffering at the expense of folding. It in half is the thing that's holding back all: first generation, folding phones, it's the challenge for all of them, and it's definitely happening here with surface duo. This phone has no wireless charging, no ip rating, no real ecosystem around it very little app support out of the gate and even a lot of the little things you might hope for in a phone of this price, no 5g, no headphone jack, no high refresh rate. No super fast wireless charging, not great haptics. You know. Practicality is clearly suffering to achieve this form factor, but in future generations, when this actually improves and they're able to add back those things. That'S when foldables will actually have a convincing future when it's not like you're, sacrificing and sacrificing, but you happen to get it to fold now when the fold is just another feature, that'll be a sweet future. That'S the day! That'S that's what i'm looking forward to. So you know you do file this first, one in do not buy but keep an eye on it, because i really think they're on to something i like the dual screen thing. It'S the same reason i sit in front of dual screen monitors at my desk. Instead of an ultrawide, it's because the productivity, the staying in your flow, the compartmentalization of having two screens, it works, it's real, and so i'm looking forward to the next surface duo and that's the review of the first one thanks for watching catch, you guys the next One peace\""
      ],
      "execution_count": null,
      "outputs": []
    },
    {
      "cell_type": "code",
      "metadata": {
        "id": "3dszFFbKw2d_",
        "outputId": "f4ee316a-a68a-48c4-a6b1-8acf5009c46b",
        "colab": {
          "base_uri": "https://localhost:8080/",
          "height": 171
        }
      },
      "source": [
        "model(mkbhd_surface, ratio=0.33)"
      ],
      "execution_count": null,
      "outputs": [
        {
          "output_type": "execute_result",
          "data": {
            "application/vnd.google.colaboratory.intrinsic+json": {
              "type": "string"
            },
            "text/plain": [
              "\"Hey what's up mkbhd here, and this is the surface duo screen on in all of its super sweet hinge, well-built ultra thin glory. I don't think most people should buy this and that's fine. I'M gon na adjust a little it'll, be the good, the meh and the bad, because there are some really good pieces and some really good ideas. It'S the first foldable phone from microsoft. It'S the first android phone from microsoft. Like this, the first razer thin phone with a 360 degree hinge and two five-inch displays like this. It has this smoothness, but also a firmness to it where it can stop in any position. You can open up an app on one screen and literally do anything you want on the other screen. You can watch a video on one screen and take notes on it. What screen something is on or even drag to. The middle and span it between two screens now not every app, looks good spanned across both screens matter of fact, most don't like right now, it's up to developers to get in and update their apps and take advantage of this multitasking experience, which may not happen very Quickly, depending on how popular this is, but if you look at microsoft, suite of apps, the 365 suite outlook is a really good example where you span it across and you get email on one side and you can. You can use your calendar and view single events on one side and the calendar on the other, it's great so for me and surface duo, i found i tend to start by opening it up in book mode and then i slowly get into whatever i'm doing, which Is usually just on one side and then it's kind of awkward having the other side just kind of staring at me with nothing happening, wasting power, so i often switch over to single screen mode and use it like that and that's cool. All you got ta do to make one of your own is pick an app hold. I definitely wish they were thinner, but you also have to realize the side. So, okay, it is two 5.6 inch displays, but, as you can tell they're very wide for if it was a normal 5.6 inch phone plus those bezels, so the whole thing is shaped like a passport that you might be more likely to put in a back pocket. Maybe a little bit narrower would have been more palatable and then typing overall yeah. They partnered with swiftkey on this keyboard for android. So if you're in book mode, you can't really type with one hand all over that one side screen. So typing was hit or miss got ta, use, swiftkey and then performance. It'S you know, look we knew it wasn't gon na be the best performer. You know kind of middle of the road better than i thought it would be. When i do that and right now, i'm at half battery at 1 30 pm it's acceptable. But again you know you don't have wireless charging. Why i think some of these things went so bad. Just at the top here in the earpiece and the slot up there, that's it so at absolute maximum volume, it sounds like a normal smartphone speaker at 50 volume and inside a tin can like it's pretty brutal, not enough room for a good speaker here and then The camera, so the camera is in fact terrible. You can force it to switch screens at any time by double tapping the off screen and it usually works great. Is anyone really using this for nighttime photography but look microsoft? This will be fine for the occasional video chat. I still raved about how thin it was in the hardware and how much i love it, and i like that. No super fast wireless charging, not great haptics. That'S that's what i'm looking forward to. So you know you do file this first, one in do not buy but keep an eye on it, because i really think they're on to something i like the dual screen thing.\""
            ]
          },
          "metadata": {
            "tags": []
          },
          "execution_count": 6
        }
      ]
    },
    {
      "cell_type": "code",
      "metadata": {
        "id": "LS74Jcaqw3vx"
      },
      "source": [
        "summary = \"Hey what is up guys, I'm Kim PhD here, and this is the iPhone 11. The same lightning port same LCD display with the 1792 by 8:28 resolution that has us all questioning a lot of things like not being able to watch HD YouTube videos on a $ 700 phone, but hey people, oven, reviewers, didn't seem to mind a lot. Same water, resistance, same ip68 same buttons, you get the idea, so, okay, what is new? First of all the name so they're calling it just iPhone 11. Actually, I think the blue is pretty nice. You could always grab a darker skin from our channel sponsor, debrand and boom. You got yourself a stealthy new iphone for $ 715. Instead of a thousand, i will of course, always drop a link right below that like button, but if you rock your phone naked like me, you will notice. That'S milled down to cut the shape out of it and then two different finishes. So that's pretty cool, no matter what you think of the shape and then we'll get to. But you do now have a battery life that, according to Apple, is one hour longer than the iPhone 10 are. That'S not a huge deal to me and both of these two new included cameras are excellent. They'Re, a plus smartphone cameras in 2019. I do go into more detail on the photo and video quality in the iPhone 11 Pro review for these new cameras. But then again, this has the ultra wide camera that the pixel 3 doesn't, but also the pixel 4, depending on when you watch. But for now, if you want a great camera, this is a great camera and then they changed the price they dropped. The question is: do you recommend it and I think the easy answer is yeah. How much do you really care about the quality of this screen? But it's smaller or if you think it's not big enough, you can go for the bigger iPhone 11 Pro Maxx, oh and there's another one actually, which is just all you want to budget, which just generally will put a lot of people in the camp of buying The cheaper iPhone but combo breaker, they are still selling iPhone 8 and iPhone 10 are, and I think, iPhone 10 are at 600. Thanks for watching this super easy, video and I'll catch, you guys in the next one peace.\""
      ],
      "execution_count": null,
      "outputs": []
    },
    {
      "cell_type": "code",
      "metadata": {
        "id": "k91_CCw4ySB6"
      },
      "source": [
        "import spacy"
      ],
      "execution_count": null,
      "outputs": []
    },
    {
      "cell_type": "code",
      "metadata": {
        "id": "SvgY9As5BbSE"
      },
      "source": [
        "nlp = spacy.load(\"en_core_web_sm\")"
      ],
      "execution_count": null,
      "outputs": []
    },
    {
      "cell_type": "code",
      "metadata": {
        "id": "IjBEuoUgB9m1"
      },
      "source": [
        "summary =\"Hey what's up mkbhd here, and this is the surface duo screen on in all of its super sweet hinge, well-built ultra thin glory. I don't think most people should buy this and that's fine. I'M gon na adjust a little it'll, be the good, the meh and the bad, because there are some really good pieces and some really good ideas. It'S the first foldable phone from microsoft. It'S the first android phone from microsoft. Like this, the first razer thin phone with a 360 degree hinge and two five-inch displays like this. It has this smoothness, but also a firmness to it where it can stop in any position. You can open up an app on one screen and literally do anything you want on the other screen. You can watch a video on one screen and take notes on it. What screen something is on or even drag to. The middle and span it between two screens now not every app, looks good spanned across both screens matter of fact, most don't like right now, it's up to developers to get in and update their apps and take advantage of this multitasking experience, which may not happen very Quickly, depending on how popular this is, but if you look at microsoft, suite of apps, the 365 suite outlook is a really good example where you span it across and you get email on one side and you can. You can use your calendar and view single events on one side and the calendar on the other, it's great so for me and surface duo, i found i tend to start by opening it up in book mode and then i slowly get into whatever i'm doing, which Is usually just on one side and then it's kind of awkward having the other side just kind of staring at me with nothing happening, wasting power, so i often switch over to single screen mode and use it like that and that's cool. All you got ta do to make one of your own is pick an app hold. I definitely wish they were thinner, but you also have to realize the side. So, okay, it is two 5.6 inch displays, but, as you can tell they're very wide for if it was a normal 5.6 inch phone plus those bezels, so the whole thing is shaped like a passport that you might be more likely to put in a back pocket. Maybe a little bit narrower would have been more palatable and then typing overall yeah. They partnered with swiftkey on this keyboard for android. So if you're in book mode, you can't really type with one hand all over that one side screen. So typing was hit or miss got ta, use, swiftkey and then performance. It'S you know, look we knew it wasn't gon na be the best performer. You know kind of middle of the road better than i thought it would be. When i do that and right now, i'm at half battery at 1 30 pm it's acceptable. But again you know you don't have wireless charging. Why i think some of these things went so bad. Just at the top here in the earpiece and the slot up there, that's it so at absolute maximum volume, it sounds like a normal smartphone speaker at 50 volume and inside a tin can like it's pretty brutal, not enough room for a good speaker here and then The camera, so the camera is in fact terrible. You can force it to switch screens at any time by double tapping the off screen and it usually works great. Is anyone really using this for nighttime photography but look microsoft? This will be fine for the occasional video chat. I still raved about how thin it was in the hardware and how much i love it, and i like that. No super fast wireless charging, not great haptics. That'S that's what i'm looking forward to. So you know you do file this first, one in do not buy but keep an eye on it, because i really think they're on to something i like the dual screen thing.\""
      ],
      "execution_count": null,
      "outputs": []
    },
    {
      "cell_type": "code",
      "metadata": {
        "id": "rzVjjAk4EAGU"
      },
      "source": [
        "featureList = ['camera', 'cameras', 'battery', 'price', 'display', 'sound', 'speaker', 'quality', 'screen', 'selfie', 'chip', 'processor']"
      ],
      "execution_count": null,
      "outputs": []
    },
    {
      "cell_type": "code",
      "metadata": {
        "id": "e4jIoS_LBdah",
        "outputId": "1ddb4606-4a74-4715-dabc-ae1bd89063d9",
        "colab": {
          "base_uri": "https://localhost:8080/"
        }
      },
      "source": [
        "doc = nlp(summary)\n",
        "#for token in doc:\n",
        "#  if(token.pos_ == 'NOUN'):\n",
        "#    print(token.text, token.pos_, token.dep_)\n",
        "\n",
        "for sent_i, sent in enumerate(doc.sents):\n",
        "    for token in sent:\n",
        "      if(token.pos_ == 'NOUN'):\n",
        "        #print(token.text, token.pos_, token.dep_)\n",
        "        print(sent_i, token.i, token.text)"
      ],
      "execution_count": null,
      "outputs": [
        {
          "output_type": "stream",
          "text": [
            "0 11 surface\n",
            "0 12 duo\n",
            "0 13 screen\n",
            "0 21 hinge\n",
            "0 28 glory\n",
            "1 35 people\n",
            "3 44 I'M\n",
            "4 58 meh\n",
            "4 69 pieces\n",
            "4 74 ideas\n",
            "5 81 phone\n",
            "6 90 phone\n",
            "7 99 razer\n",
            "7 101 phone\n",
            "7 105 degree\n",
            "7 106 hinge\n",
            "7 111 inch\n",
            "7 112 displays\n",
            "8 119 smoothness\n",
            "8 124 firmness\n",
            "8 133 position\n",
            "9 140 app\n",
            "9 143 screen\n",
            "9 153 screen\n",
            "10 159 video\n",
            "10 162 screen\n",
            "10 165 notes\n",
            "11 170 screen\n",
            "12 180 middle\n",
            "12 186 screens\n",
            "12 190 app\n",
            "12 197 screens\n",
            "12 198 matter\n",
            "12 200 fact\n",
            "12 213 developers\n",
            "12 220 apps\n",
            "12 223 advantage\n",
            "12 226 multitasking\n",
            "12 227 experience\n",
            "12 252 apps\n",
            "12 257 outlook\n",
            "12 262 example\n",
            "12 271 email\n",
            "12 274 side\n",
            "13 283 calendar\n",
            "13 287 events\n",
            "13 290 side\n",
            "13 293 calendar\n",
            "13 306 duo\n",
            "13 319 book\n",
            "13 320 mode\n",
            "14 338 side\n",
            "15 349 side\n",
            "15 361 power\n",
            "15 370 screen\n",
            "15 371 mode\n",
            "17 396 app\n",
            "17 397 hold\n",
            "18 413 side\n",
            "19 423 inch\n",
            "19 424 displays\n",
            "19 443 inch\n",
            "19 444 phone\n",
            "19 447 bezels\n",
            "19 452 thing\n",
            "19 457 passport\n",
            "19 469 pocket\n",
            "20 474 bit\n",
            "22 490 swiftkey\n",
            "22 493 keyboard\n",
            "22 495 android\n",
            "23 502 book\n",
            "23 503 mode\n",
            "23 512 hand\n",
            "23 517 side\n",
            "23 518 screen\n",
            "24 521 typing\n",
            "24 529 use\n",
            "24 531 swiftkey\n",
            "24 534 performance\n",
            "25 552 performer\n",
            "26 558 middle\n",
            "26 561 road\n",
            "27 582 battery\n",
            "27 586 pm\n",
            "29 600 charging\n",
            "30 608 things\n",
            "31 616 top\n",
            "31 620 earpiece\n",
            "31 623 slot\n",
            "31 634 volume\n",
            "32 641 smartphone\n",
            "32 642 speaker\n",
            "32 645 volume\n",
            "32 649 tin\n",
            "34 659 room\n",
            "34 663 speaker\n",
            "34 668 camera\n",
            "35 672 camera\n",
            "35 675 fact\n",
            "36 684 screens\n",
            "36 687 time\n",
            "36 693 screen\n",
            "38 707 photography\n",
            "39 719 video\n",
            "39 720 chat\n",
            "40 732 hardware\n",
            "41 748 wireless\n",
            "41 749 charging\n",
            "41 753 haptics\n",
            "44 783 eye\n",
            "44 800 screen\n",
            "44 801 thing\n"
          ],
          "name": "stdout"
        }
      ]
    },
    {
      "cell_type": "code",
      "metadata": {
        "id": "STnK86oaCIGI"
      },
      "source": [
        "sentence = set()\n",
        "for sent_i, sent in enumerate(doc.sents):\n",
        "  for token in sent:\n",
        "    if(token.pos_ == 'NOUN'):\n",
        "      for feature in featureList:\n",
        "        #if(token.text==feature):\n",
        "        if(token.text=='camera' or token.text=='cameras'):\n",
        "          #if(sent_i==):\n",
        "          sentence.add(sent)"
      ],
      "execution_count": null,
      "outputs": []
    },
    {
      "cell_type": "code",
      "metadata": {
        "id": "xzJUDrmRDX0A",
        "outputId": "e38093c8-438d-4975-f68e-887e9e6dc728",
        "colab": {
          "base_uri": "https://localhost:8080/"
        }
      },
      "source": [
        "len(sentence)"
      ],
      "execution_count": null,
      "outputs": [
        {
          "output_type": "execute_result",
          "data": {
            "text/plain": [
              "2"
            ]
          },
          "metadata": {
            "tags": []
          },
          "execution_count": 16
        }
      ]
    },
    {
      "cell_type": "code",
      "metadata": {
        "id": "6WvT47RTGNU0"
      },
      "source": [
        "from textblob import TextBlob"
      ],
      "execution_count": null,
      "outputs": []
    },
    {
      "cell_type": "code",
      "metadata": {
        "id": "I_FWbVESHmp0",
        "outputId": "f40f215a-06f8-4d8e-df3a-41489c482343",
        "colab": {
          "base_uri": "https://localhost:8080/"
        }
      },
      "source": [
        "sentence5 = []\n",
        "for text in sentence:\n",
        "  print(text)\n",
        "  sentence5.append(str(text))\n",
        "print(TextBlob(' '.join(sentence5)).sentiment.polarity)\n",
        "print(sentence5)"
      ],
      "execution_count": null,
      "outputs": [
        {
          "output_type": "stream",
          "text": [
            "not enough room for a good speaker here and then The camera\n",
            ", so the camera is in fact terrible.\n",
            "-0.10000000000000002\n",
            "['not enough room for a good speaker here and then The camera', ', so the camera is in fact terrible.']\n"
          ],
          "name": "stdout"
        }
      ]
    },
    {
      "cell_type": "code",
      "metadata": {
        "id": "COSuR4dQHyes",
        "outputId": "d567fa7a-84aa-485a-bccd-ca6b58f64ad4",
        "colab": {
          "base_uri": "https://localhost:8080/"
        }
      },
      "source": [
        "TextBlob(summary).sentiment.polarity"
      ],
      "execution_count": null,
      "outputs": [
        {
          "output_type": "execute_result",
          "data": {
            "text/plain": [
              "0.1957466652588604"
            ]
          },
          "metadata": {
            "tags": []
          },
          "execution_count": 51
        }
      ]
    },
    {
      "cell_type": "code",
      "metadata": {
        "id": "SHy8pRZMJFxf",
        "outputId": "f80230b8-81d6-48f0-b69c-8406b823892f",
        "colab": {
          "base_uri": "https://localhost:8080/"
        }
      },
      "source": [
        "TextBlob(summary).sentiment.polarity"
      ],
      "execution_count": null,
      "outputs": [
        {
          "output_type": "execute_result",
          "data": {
            "text/plain": [
              "0.15381892230576438"
            ]
          },
          "metadata": {
            "tags": []
          },
          "execution_count": 8
        }
      ]
    },
    {
      "cell_type": "code",
      "metadata": {
        "id": "91N9yoW3JP3e"
      },
      "source": [
        ""
      ],
      "execution_count": null,
      "outputs": []
    }
  ]
}